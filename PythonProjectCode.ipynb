{
 "cells": [
  {
   "cell_type": "markdown",
   "id": "51af9608-91b0-424e-bf07-aa47d4ef0036",
   "metadata": {},
   "source": [
    "# **Book Rating Prediction Model Project DSTI**\n",
    "#### For the DSTI Python Project, I will train a model that predicts a book’s rating using books.csv dataset. This Project includes exploratory analysis of the data, feature engineering and selection, model training and evaluation.\n",
    "##### 1- Let's explore the data\n",
    "##### 2- Data Cleaning & Data Processing\n",
    "##### 3- Plots of relevant attributes\n",
    "##### 4- Feature selection : feature engineering, feature pruning and choice justification\n",
    "##### 5- Models training : \n",
    "###### 5-1- LinearRegression()\n",
    "###### 5-1-1 LinearRegression() Model Evaluation\n",
    "###### 5-2- KNeighborsRegressor()\n",
    "###### 5-2-1 KNeighborsRegressor() Model Evaluation\n",
    "###### 5-3- DecisionTreeRegressor()\n",
    "###### 5-3-1 DecisionTreeRegressor() Model Evaluation\n",
    "###### 5-4- GradientBoostingRegressor()\n",
    "###### 5-4-1 GradientBoostingRegressor() Model Evalution\n",
    "##### 6- Results interpretation"
   ]
  },
  {
   "cell_type": "code",
   "execution_count": 1,
   "id": "bf522698-278f-4a64-abb8-b24428d0f8f5",
   "metadata": {},
   "outputs": [],
   "source": [
    "# import libraries\n",
    "import numpy as np\n",
    "import pandas as pd\n",
    "import seaborn as sns\n",
    "from scipy.stats import norm\n",
    "import matplotlib.pyplot as plt\n",
    "import os\n",
    "from sklearn import metrics\n",
    "from sklearn import preprocessing\n",
    "from sklearn.linear_model import LinearRegression\n",
    "from sklearn.model_selection import train_test_split\n",
    "%matplotlib inline\n",
    "sns.set(style= 'darkgrid')\n",
    "sns.set_palette('deep')"
   ]
  },
  {
   "cell_type": "markdown",
   "id": "9efa7992-6319-449a-b972-a6ac760c1925",
   "metadata": {},
   "source": [
    "## **1 - Let's explore the data**"
   ]
  },
  {
   "cell_type": "code",
   "execution_count": 2,
   "id": "65a18fc8-1318-43b1-ba51-2dbbad483de9",
   "metadata": {},
   "outputs": [
    {
     "name": "stderr",
     "output_type": "stream",
     "text": [
      "/Users/alisemlali/opt/anaconda3/lib/python3.9/site-packages/IPython/core/interactiveshell.py:3444: FutureWarning: The error_bad_lines argument has been deprecated and will be removed in a future version.\n",
      "\n",
      "\n",
      "  exec(code_obj, self.user_global_ns, self.user_ns)\n",
      "b'Skipping line 3350: expected 12 fields, saw 13\\nSkipping line 4704: expected 12 fields, saw 13\\nSkipping line 5879: expected 12 fields, saw 13\\nSkipping line 8981: expected 12 fields, saw 13\\n'\n"
     ]
    }
   ],
   "source": [
    "booksdata = pd.read_csv('/Users/alisemlali/Desktop/Python Project/books.csv', error_bad_lines = False)"
   ]
  },
  {
   "cell_type": "code",
   "execution_count": 3,
   "id": "fa7bba24-c977-4197-9f4c-aee851f6baff",
   "metadata": {},
   "outputs": [
    {
     "data": {
      "text/html": [
       "<div>\n",
       "<style scoped>\n",
       "    .dataframe tbody tr th:only-of-type {\n",
       "        vertical-align: middle;\n",
       "    }\n",
       "\n",
       "    .dataframe tbody tr th {\n",
       "        vertical-align: top;\n",
       "    }\n",
       "\n",
       "    .dataframe thead th {\n",
       "        text-align: right;\n",
       "    }\n",
       "</style>\n",
       "<table border=\"1\" class=\"dataframe\">\n",
       "  <thead>\n",
       "    <tr style=\"text-align: right;\">\n",
       "      <th></th>\n",
       "      <th>bookID</th>\n",
       "      <th>title</th>\n",
       "      <th>authors</th>\n",
       "      <th>average_rating</th>\n",
       "      <th>isbn</th>\n",
       "      <th>isbn13</th>\n",
       "      <th>language_code</th>\n",
       "      <th>num_pages</th>\n",
       "      <th>ratings_count</th>\n",
       "      <th>text_reviews_count</th>\n",
       "      <th>publication_date</th>\n",
       "      <th>publisher</th>\n",
       "    </tr>\n",
       "  </thead>\n",
       "  <tbody>\n",
       "    <tr>\n",
       "      <th>0</th>\n",
       "      <td>1</td>\n",
       "      <td>Harry Potter and the Half-Blood Prince (Harry ...</td>\n",
       "      <td>J.K. Rowling/Mary GrandPré</td>\n",
       "      <td>4.57</td>\n",
       "      <td>0439785960</td>\n",
       "      <td>9780439785969</td>\n",
       "      <td>eng</td>\n",
       "      <td>652</td>\n",
       "      <td>2095690</td>\n",
       "      <td>27591</td>\n",
       "      <td>9/16/2006</td>\n",
       "      <td>Scholastic Inc.</td>\n",
       "    </tr>\n",
       "    <tr>\n",
       "      <th>1</th>\n",
       "      <td>2</td>\n",
       "      <td>Harry Potter and the Order of the Phoenix (Har...</td>\n",
       "      <td>J.K. Rowling/Mary GrandPré</td>\n",
       "      <td>4.49</td>\n",
       "      <td>0439358078</td>\n",
       "      <td>9780439358071</td>\n",
       "      <td>eng</td>\n",
       "      <td>870</td>\n",
       "      <td>2153167</td>\n",
       "      <td>29221</td>\n",
       "      <td>9/1/2004</td>\n",
       "      <td>Scholastic Inc.</td>\n",
       "    </tr>\n",
       "    <tr>\n",
       "      <th>2</th>\n",
       "      <td>4</td>\n",
       "      <td>Harry Potter and the Chamber of Secrets (Harry...</td>\n",
       "      <td>J.K. Rowling</td>\n",
       "      <td>4.42</td>\n",
       "      <td>0439554896</td>\n",
       "      <td>9780439554893</td>\n",
       "      <td>eng</td>\n",
       "      <td>352</td>\n",
       "      <td>6333</td>\n",
       "      <td>244</td>\n",
       "      <td>11/1/2003</td>\n",
       "      <td>Scholastic</td>\n",
       "    </tr>\n",
       "    <tr>\n",
       "      <th>3</th>\n",
       "      <td>5</td>\n",
       "      <td>Harry Potter and the Prisoner of Azkaban (Harr...</td>\n",
       "      <td>J.K. Rowling/Mary GrandPré</td>\n",
       "      <td>4.56</td>\n",
       "      <td>043965548X</td>\n",
       "      <td>9780439655484</td>\n",
       "      <td>eng</td>\n",
       "      <td>435</td>\n",
       "      <td>2339585</td>\n",
       "      <td>36325</td>\n",
       "      <td>5/1/2004</td>\n",
       "      <td>Scholastic Inc.</td>\n",
       "    </tr>\n",
       "    <tr>\n",
       "      <th>4</th>\n",
       "      <td>8</td>\n",
       "      <td>Harry Potter Boxed Set  Books 1-5 (Harry Potte...</td>\n",
       "      <td>J.K. Rowling/Mary GrandPré</td>\n",
       "      <td>4.78</td>\n",
       "      <td>0439682584</td>\n",
       "      <td>9780439682589</td>\n",
       "      <td>eng</td>\n",
       "      <td>2690</td>\n",
       "      <td>41428</td>\n",
       "      <td>164</td>\n",
       "      <td>9/13/2004</td>\n",
       "      <td>Scholastic</td>\n",
       "    </tr>\n",
       "    <tr>\n",
       "      <th>5</th>\n",
       "      <td>9</td>\n",
       "      <td>Unauthorized Harry Potter Book Seven News: \"Ha...</td>\n",
       "      <td>W. Frederick Zimmerman</td>\n",
       "      <td>3.74</td>\n",
       "      <td>0976540606</td>\n",
       "      <td>9780976540601</td>\n",
       "      <td>en-US</td>\n",
       "      <td>152</td>\n",
       "      <td>19</td>\n",
       "      <td>1</td>\n",
       "      <td>4/26/2005</td>\n",
       "      <td>Nimble Books</td>\n",
       "    </tr>\n",
       "    <tr>\n",
       "      <th>6</th>\n",
       "      <td>10</td>\n",
       "      <td>Harry Potter Collection (Harry Potter  #1-6)</td>\n",
       "      <td>J.K. Rowling</td>\n",
       "      <td>4.73</td>\n",
       "      <td>0439827604</td>\n",
       "      <td>9780439827607</td>\n",
       "      <td>eng</td>\n",
       "      <td>3342</td>\n",
       "      <td>28242</td>\n",
       "      <td>808</td>\n",
       "      <td>9/12/2005</td>\n",
       "      <td>Scholastic</td>\n",
       "    </tr>\n",
       "  </tbody>\n",
       "</table>\n",
       "</div>"
      ],
      "text/plain": [
       "   bookID                                              title  \\\n",
       "0       1  Harry Potter and the Half-Blood Prince (Harry ...   \n",
       "1       2  Harry Potter and the Order of the Phoenix (Har...   \n",
       "2       4  Harry Potter and the Chamber of Secrets (Harry...   \n",
       "3       5  Harry Potter and the Prisoner of Azkaban (Harr...   \n",
       "4       8  Harry Potter Boxed Set  Books 1-5 (Harry Potte...   \n",
       "5       9  Unauthorized Harry Potter Book Seven News: \"Ha...   \n",
       "6      10       Harry Potter Collection (Harry Potter  #1-6)   \n",
       "\n",
       "                      authors  average_rating        isbn         isbn13  \\\n",
       "0  J.K. Rowling/Mary GrandPré            4.57  0439785960  9780439785969   \n",
       "1  J.K. Rowling/Mary GrandPré            4.49  0439358078  9780439358071   \n",
       "2                J.K. Rowling            4.42  0439554896  9780439554893   \n",
       "3  J.K. Rowling/Mary GrandPré            4.56  043965548X  9780439655484   \n",
       "4  J.K. Rowling/Mary GrandPré            4.78  0439682584  9780439682589   \n",
       "5      W. Frederick Zimmerman            3.74  0976540606  9780976540601   \n",
       "6                J.K. Rowling            4.73  0439827604  9780439827607   \n",
       "\n",
       "  language_code    num_pages  ratings_count  text_reviews_count  \\\n",
       "0           eng          652        2095690               27591   \n",
       "1           eng          870        2153167               29221   \n",
       "2           eng          352           6333                 244   \n",
       "3           eng          435        2339585               36325   \n",
       "4           eng         2690          41428                 164   \n",
       "5         en-US          152             19                   1   \n",
       "6           eng         3342          28242                 808   \n",
       "\n",
       "  publication_date        publisher  \n",
       "0        9/16/2006  Scholastic Inc.  \n",
       "1         9/1/2004  Scholastic Inc.  \n",
       "2        11/1/2003       Scholastic  \n",
       "3         5/1/2004  Scholastic Inc.  \n",
       "4        9/13/2004       Scholastic  \n",
       "5        4/26/2005     Nimble Books  \n",
       "6        9/12/2005       Scholastic  "
      ]
     },
     "execution_count": 3,
     "metadata": {},
     "output_type": "execute_result"
    }
   ],
   "source": [
    "booksdata.head(7)"
   ]
  },
  {
   "cell_type": "code",
   "execution_count": 4,
   "id": "b8fa18cd-9ec2-4009-9d07-c2249bc53860",
   "metadata": {},
   "outputs": [
    {
     "data": {
      "text/html": [
       "<div>\n",
       "<style scoped>\n",
       "    .dataframe tbody tr th:only-of-type {\n",
       "        vertical-align: middle;\n",
       "    }\n",
       "\n",
       "    .dataframe tbody tr th {\n",
       "        vertical-align: top;\n",
       "    }\n",
       "\n",
       "    .dataframe thead th {\n",
       "        text-align: right;\n",
       "    }\n",
       "</style>\n",
       "<table border=\"1\" class=\"dataframe\">\n",
       "  <thead>\n",
       "    <tr style=\"text-align: right;\">\n",
       "      <th></th>\n",
       "      <th>bookID</th>\n",
       "      <th>average_rating</th>\n",
       "      <th>isbn13</th>\n",
       "      <th>num_pages</th>\n",
       "      <th>ratings_count</th>\n",
       "      <th>text_reviews_count</th>\n",
       "    </tr>\n",
       "  </thead>\n",
       "  <tbody>\n",
       "    <tr>\n",
       "      <th>count</th>\n",
       "      <td>11123.000000</td>\n",
       "      <td>11123.000000</td>\n",
       "      <td>1.112300e+04</td>\n",
       "      <td>11123.000000</td>\n",
       "      <td>1.112300e+04</td>\n",
       "      <td>11123.000000</td>\n",
       "    </tr>\n",
       "    <tr>\n",
       "      <th>mean</th>\n",
       "      <td>21310.856963</td>\n",
       "      <td>3.934075</td>\n",
       "      <td>9.759880e+12</td>\n",
       "      <td>336.405556</td>\n",
       "      <td>1.794285e+04</td>\n",
       "      <td>542.048099</td>\n",
       "    </tr>\n",
       "    <tr>\n",
       "      <th>std</th>\n",
       "      <td>13094.727252</td>\n",
       "      <td>0.350485</td>\n",
       "      <td>4.429758e+11</td>\n",
       "      <td>241.152626</td>\n",
       "      <td>1.124992e+05</td>\n",
       "      <td>2576.619589</td>\n",
       "    </tr>\n",
       "    <tr>\n",
       "      <th>min</th>\n",
       "      <td>1.000000</td>\n",
       "      <td>0.000000</td>\n",
       "      <td>8.987060e+09</td>\n",
       "      <td>0.000000</td>\n",
       "      <td>0.000000e+00</td>\n",
       "      <td>0.000000</td>\n",
       "    </tr>\n",
       "    <tr>\n",
       "      <th>25%</th>\n",
       "      <td>10277.500000</td>\n",
       "      <td>3.770000</td>\n",
       "      <td>9.780345e+12</td>\n",
       "      <td>192.000000</td>\n",
       "      <td>1.040000e+02</td>\n",
       "      <td>9.000000</td>\n",
       "    </tr>\n",
       "    <tr>\n",
       "      <th>50%</th>\n",
       "      <td>20287.000000</td>\n",
       "      <td>3.960000</td>\n",
       "      <td>9.780582e+12</td>\n",
       "      <td>299.000000</td>\n",
       "      <td>7.450000e+02</td>\n",
       "      <td>47.000000</td>\n",
       "    </tr>\n",
       "    <tr>\n",
       "      <th>75%</th>\n",
       "      <td>32104.500000</td>\n",
       "      <td>4.140000</td>\n",
       "      <td>9.780872e+12</td>\n",
       "      <td>416.000000</td>\n",
       "      <td>5.000500e+03</td>\n",
       "      <td>238.000000</td>\n",
       "    </tr>\n",
       "    <tr>\n",
       "      <th>max</th>\n",
       "      <td>45641.000000</td>\n",
       "      <td>5.000000</td>\n",
       "      <td>9.790008e+12</td>\n",
       "      <td>6576.000000</td>\n",
       "      <td>4.597666e+06</td>\n",
       "      <td>94265.000000</td>\n",
       "    </tr>\n",
       "  </tbody>\n",
       "</table>\n",
       "</div>"
      ],
      "text/plain": [
       "             bookID  average_rating        isbn13     num_pages  \\\n",
       "count  11123.000000    11123.000000  1.112300e+04  11123.000000   \n",
       "mean   21310.856963        3.934075  9.759880e+12    336.405556   \n",
       "std    13094.727252        0.350485  4.429758e+11    241.152626   \n",
       "min        1.000000        0.000000  8.987060e+09      0.000000   \n",
       "25%    10277.500000        3.770000  9.780345e+12    192.000000   \n",
       "50%    20287.000000        3.960000  9.780582e+12    299.000000   \n",
       "75%    32104.500000        4.140000  9.780872e+12    416.000000   \n",
       "max    45641.000000        5.000000  9.790008e+12   6576.000000   \n",
       "\n",
       "       ratings_count  text_reviews_count  \n",
       "count   1.112300e+04        11123.000000  \n",
       "mean    1.794285e+04          542.048099  \n",
       "std     1.124992e+05         2576.619589  \n",
       "min     0.000000e+00            0.000000  \n",
       "25%     1.040000e+02            9.000000  \n",
       "50%     7.450000e+02           47.000000  \n",
       "75%     5.000500e+03          238.000000  \n",
       "max     4.597666e+06        94265.000000  "
      ]
     },
     "execution_count": 4,
     "metadata": {},
     "output_type": "execute_result"
    }
   ],
   "source": [
    "# Describe each column of booksdata\n",
    "\n",
    "booksdata.describe()"
   ]
  },
  {
   "cell_type": "code",
   "execution_count": 5,
   "id": "09642d2a-a55c-4255-8b2e-89ff34e68f7d",
   "metadata": {},
   "outputs": [
    {
     "name": "stdout",
     "output_type": "stream",
     "text": [
      "<class 'pandas.core.frame.DataFrame'>\n",
      "RangeIndex: 11123 entries, 0 to 11122\n",
      "Data columns (total 12 columns):\n",
      " #   Column              Non-Null Count  Dtype  \n",
      "---  ------              --------------  -----  \n",
      " 0   bookID              11123 non-null  int64  \n",
      " 1   title               11123 non-null  object \n",
      " 2   authors             11123 non-null  object \n",
      " 3   average_rating      11123 non-null  float64\n",
      " 4   isbn                11123 non-null  object \n",
      " 5   isbn13              11123 non-null  int64  \n",
      " 6   language_code       11123 non-null  object \n",
      " 7     num_pages         11123 non-null  int64  \n",
      " 8   ratings_count       11123 non-null  int64  \n",
      " 9   text_reviews_count  11123 non-null  int64  \n",
      " 10  publication_date    11123 non-null  object \n",
      " 11  publisher           11123 non-null  object \n",
      "dtypes: float64(1), int64(5), object(6)\n",
      "memory usage: 1.0+ MB\n"
     ]
    }
   ],
   "source": [
    "# Check the Data Type of each column in booksdata\n",
    "\n",
    "booksdata.info()"
   ]
  },
  {
   "cell_type": "code",
   "execution_count": 6,
   "id": "516c4519-25d6-4d27-9f9b-e5442b2efb6b",
   "metadata": {},
   "outputs": [
    {
     "data": {
      "text/plain": [
       "11123"
      ]
     },
     "execution_count": 6,
     "metadata": {},
     "output_type": "execute_result"
    }
   ],
   "source": [
    "# Calculate number of rows\n",
    "\n",
    "len(booksdata)"
   ]
  },
  {
   "cell_type": "code",
   "execution_count": 7,
   "id": "b6b6d793-a64a-4491-ba52-bc33263ed34b",
   "metadata": {
    "tags": []
   },
   "outputs": [
    {
     "data": {
      "text/plain": [
       "bookID                0\n",
       "title                 0\n",
       "authors               0\n",
       "average_rating        0\n",
       "isbn                  0\n",
       "isbn13                0\n",
       "language_code         0\n",
       "  num_pages           0\n",
       "ratings_count         0\n",
       "text_reviews_count    0\n",
       "publication_date      0\n",
       "publisher             0\n",
       "dtype: int64"
      ]
     },
     "execution_count": 7,
     "metadata": {},
     "output_type": "execute_result"
    }
   ],
   "source": [
    "# Check missing values in booksdata\n",
    "\n",
    "booksdata.isnull().sum()"
   ]
  },
  {
   "cell_type": "markdown",
   "id": "d6e9729a-8092-4d55-8304-28a5baf128cc",
   "metadata": {},
   "source": [
    "**There is no missing value in our csv file**"
   ]
  },
  {
   "cell_type": "markdown",
   "id": "1c51e60f-292f-492c-bdc5-19661d8041ca",
   "metadata": {},
   "source": [
    "## **2 - Data Cleaning & Data Processing**"
   ]
  },
  {
   "cell_type": "code",
   "execution_count": 8,
   "id": "b7ad5b50-9b5d-4785-ab60-c75944df962c",
   "metadata": {},
   "outputs": [
    {
     "name": "stdout",
     "output_type": "stream",
     "text": [
      "['eng' 'en-US' 'fre' 'spa' 'en-GB' 'mul' 'grc' 'enm' 'en-CA' 'ger' 'jpn'\n",
      " 'ara' 'nl' 'zho' 'lat' 'por' 'srp' 'ita' 'rus' 'msa' 'glg' 'wel' 'swe'\n",
      " 'nor' 'tur' 'gla' 'ale']\n"
     ]
    }
   ],
   "source": [
    "print(booksdata.language_code.unique())"
   ]
  },
  {
   "cell_type": "code",
   "execution_count": 9,
   "id": "ee62cc75-7ca4-49bb-a3b8-1653ffe83f68",
   "metadata": {},
   "outputs": [
    {
     "name": "stdout",
     "output_type": "stream",
     "text": [
      "[    1     2     4 ... 45634 45639 45641]\n"
     ]
    }
   ],
   "source": [
    "print(booksdata.bookID.unique())"
   ]
  },
  {
   "cell_type": "markdown",
   "id": "6382fa54-f143-4818-a3d9-d320a03c8ca0",
   "metadata": {},
   "source": [
    "**en-US/en-GB/en-CA are normally the same language wich is eng : english. We have to correct this information**"
   ]
  },
  {
   "cell_type": "code",
   "execution_count": 10,
   "id": "5261eadb-8428-4fc6-8304-f4647404966c",
   "metadata": {},
   "outputs": [],
   "source": [
    "booksdata.replace({'language_code':{'en-US': 'eng', 'en-GB': 'eng', 'en-CA': 'eng'}}, inplace=True)"
   ]
  },
  {
   "cell_type": "code",
   "execution_count": 11,
   "id": "2f53705c-fea3-4ef3-af71-8e6a8bbefc3e",
   "metadata": {},
   "outputs": [
    {
     "name": "stdout",
     "output_type": "stream",
     "text": [
      "['eng' 'fre' 'spa' 'mul' 'grc' 'enm' 'ger' 'jpn' 'ara' 'nl' 'zho' 'lat'\n",
      " 'por' 'srp' 'ita' 'rus' 'msa' 'glg' 'wel' 'swe' 'nor' 'tur' 'gla' 'ale']\n"
     ]
    }
   ],
   "source": [
    "print(booksdata.language_code.unique())"
   ]
  },
  {
   "cell_type": "code",
   "execution_count": 12,
   "id": "be060f54-f1b0-46eb-8b28-36babc059a3d",
   "metadata": {},
   "outputs": [],
   "source": [
    "booksdata.rename(columns = {'  num_pages': 'num_pages'}, inplace=True)"
   ]
  },
  {
   "cell_type": "code",
   "execution_count": 13,
   "id": "574635af-e631-443e-8464-f8b796d20b25",
   "metadata": {},
   "outputs": [
    {
     "name": "stdout",
     "output_type": "stream",
     "text": [
      "<class 'pandas.core.frame.DataFrame'>\n",
      "RangeIndex: 11123 entries, 0 to 11122\n",
      "Data columns (total 12 columns):\n",
      " #   Column              Non-Null Count  Dtype  \n",
      "---  ------              --------------  -----  \n",
      " 0   bookID              11123 non-null  int64  \n",
      " 1   title               11123 non-null  object \n",
      " 2   authors             11123 non-null  object \n",
      " 3   average_rating      11123 non-null  float64\n",
      " 4   isbn                11123 non-null  object \n",
      " 5   isbn13              11123 non-null  int64  \n",
      " 6   language_code       11123 non-null  object \n",
      " 7   num_pages           11123 non-null  int64  \n",
      " 8   ratings_count       11123 non-null  int64  \n",
      " 9   text_reviews_count  11123 non-null  int64  \n",
      " 10  publication_date    11123 non-null  object \n",
      " 11  publisher           11123 non-null  object \n",
      "dtypes: float64(1), int64(5), object(6)\n",
      "memory usage: 1.0+ MB\n"
     ]
    }
   ],
   "source": [
    "booksdata.info()"
   ]
  },
  {
   "cell_type": "code",
   "execution_count": 14,
   "id": "c0623407-9568-4f24-b0af-edcf2f1e15ce",
   "metadata": {},
   "outputs": [
    {
     "name": "stdout",
     "output_type": "stream",
     "text": [
      "                            bookID  \\\n",
      "authors                              \n",
      "Stephenie Meyer              41865   \n",
      "J.R.R. Tolkien                5907   \n",
      "J.D. Salinger                 5107   \n",
      "Dan Brown                      960   \n",
      "J.K. Rowling/Mary GrandPré       5   \n",
      "\n",
      "                                                                        title  \\\n",
      "authors                                                                         \n",
      "Stephenie Meyer                                       Twilight (Twilight  #1)   \n",
      "J.R.R. Tolkien                            The Hobbit  or There and Back Again   \n",
      "J.D. Salinger                                          The Catcher in the Rye   \n",
      "Dan Brown                                Angels & Demons (Robert Langdon  #1)   \n",
      "J.K. Rowling/Mary GrandPré  Harry Potter and the Prisoner of Azkaban (Harr...   \n",
      "\n",
      "                            average_rating        isbn         isbn13  \\\n",
      "authors                                                                 \n",
      "Stephenie Meyer                       3.59  0316015849  9780316015844   \n",
      "J.R.R. Tolkien                        4.27  0618260307  9780618260300   \n",
      "J.D. Salinger                         3.80  0316769177  9780316769174   \n",
      "Dan Brown                             3.89  1416524797  9781416524793   \n",
      "J.K. Rowling/Mary GrandPré            4.56  043965548X  9780439655484   \n",
      "\n",
      "                           language_code  num_pages  ratings_count  \\\n",
      "authors                                                              \n",
      "Stephenie Meyer                      eng        501        4597666   \n",
      "J.R.R. Tolkien                       eng        366        2530894   \n",
      "J.D. Salinger                        eng        277        2457092   \n",
      "Dan Brown                            eng        736        2418736   \n",
      "J.K. Rowling/Mary GrandPré           eng        435        2339585   \n",
      "\n",
      "                            text_reviews_count publication_date  \\\n",
      "authors                                                           \n",
      "Stephenie Meyer                          94265         9/6/2006   \n",
      "J.R.R. Tolkien                           32871        8/15/2002   \n",
      "J.D. Salinger                            43499        1/30/2001   \n",
      "Dan Brown                                21303         4/1/2006   \n",
      "J.K. Rowling/Mary GrandPré               36325         5/1/2004   \n",
      "\n",
      "                                            publisher  \n",
      "authors                                                \n",
      "Stephenie Meyer             Little  Brown and Company  \n",
      "J.R.R. Tolkien                       Houghton Mifflin  \n",
      "J.D. Salinger                          Back Bay Books  \n",
      "Dan Brown                                Pocket Books  \n",
      "J.K. Rowling/Mary GrandPré            Scholastic Inc.  \n"
     ]
    },
    {
     "data": {
      "text/plain": [
       "<Figure size 720x360 with 0 Axes>"
      ]
     },
     "metadata": {},
     "output_type": "display_data"
    }
   ],
   "source": [
    "plt.figure(figsize=(10, 5))\n",
    "autores = booksdata.nlargest(5, ['ratings_count']).set_index('authors')\n",
    "print(autores)\n"
   ]
  },
  {
   "cell_type": "code",
   "execution_count": 15,
   "id": "e7d33707-f67e-48e5-9b90-0f00d1f7b799",
   "metadata": {},
   "outputs": [
    {
     "data": {
      "text/plain": [
       "<seaborn.axisgrid.JointGrid at 0x7fd821075220>"
      ]
     },
     "execution_count": 15,
     "metadata": {},
     "output_type": "execute_result"
    },
    {
     "data": {
      "image/png": "[encoded data removed]",
      "text/plain": [
       "<Figure size 432x432 with 3 Axes>"
      ]
     },
     "metadata": {},
     "output_type": "display_data"
    }
   ],
   "source": [
    "sns.jointplot(x = 'average_rating', y = 'num_pages', data = booksdata)"
   ]
  },
  {
   "cell_type": "markdown",
   "id": "527a7def-1632-42d7-bf82-d03e2c7be2ff",
   "metadata": {},
   "source": [
    "**Outliers are problematic fo our data set. They can distort statistical analyses and violate their assumptions so we have to remove them. That's what I am going to do below.**"
   ]
  },
  {
   "cell_type": "code",
   "execution_count": 16,
   "id": "aea1f41a-faad-4d80-a9c8-225721efecd7",
   "metadata": {},
   "outputs": [
    {
     "data": {
      "text/plain": [
       "<AxesSubplot:xlabel='num_pages'>"
      ]
     },
     "execution_count": 16,
     "metadata": {},
     "output_type": "execute_result"
    },
    {
     "data": {
      "image/png": "[encoded data removed]",
      "text/plain": [
       "<Figure size 432x288 with 1 Axes>"
      ]
     },
     "metadata": {},
     "output_type": "display_data"
    }
   ],
   "source": [
    "sns.boxplot(x=booksdata['num_pages'])"
   ]
  },
  {
   "cell_type": "markdown",
   "id": "19f5a7f4-3e2e-4448-8029-ed4c56394c0c",
   "metadata": {},
   "source": [
    "**We will remove the num_pages outliers**"
   ]
  },
  {
   "cell_type": "code",
   "execution_count": 17,
   "id": "b2dd3b62-b409-47f1-9f0e-3d590212a018",
   "metadata": {},
   "outputs": [],
   "source": [
    "booksdata = booksdata.drop(booksdata.index[booksdata['num_pages'] >= 2500])"
   ]
  },
  {
   "cell_type": "markdown",
   "id": "4d8f532d-fc91-4c52-84b4-2c810d838a34",
   "metadata": {},
   "source": [
    "**Let's check again the boxplot of num_pages**"
   ]
  },
  {
   "cell_type": "code",
   "execution_count": 18,
   "id": "40c553a6-1e44-4558-9871-5718ff15089b",
   "metadata": {},
   "outputs": [
    {
     "data": {
      "text/plain": [
       "<AxesSubplot:xlabel='num_pages'>"
      ]
     },
     "execution_count": 18,
     "metadata": {},
     "output_type": "execute_result"
    },
    {
     "data": {
      "image/png": "[encoded data removed]",
      "text/plain": [
       "<Figure size 432x288 with 1 Axes>"
      ]
     },
     "metadata": {},
     "output_type": "display_data"
    }
   ],
   "source": [
    "sns.boxplot(x=booksdata['num_pages'])"
   ]
  },
  {
   "cell_type": "markdown",
   "id": "a99ddbc8-d85a-4801-bdda-08826985b103",
   "metadata": {},
   "source": [
    "**Now it's more clear, but we have to remove other outliers of num_pages**"
   ]
  },
  {
   "cell_type": "code",
   "execution_count": 19,
   "id": "3b6fa2c6-783e-4526-b669-e5d895c05040",
   "metadata": {},
   "outputs": [],
   "source": [
    "booksdata = booksdata.drop(booksdata.index[booksdata['num_pages'] >= 1600])"
   ]
  },
  {
   "cell_type": "code",
   "execution_count": 20,
   "id": "f5b724f1-bbe6-439e-8a63-3c57dcca0bbf",
   "metadata": {},
   "outputs": [
    {
     "data": {
      "text/plain": [
       "<AxesSubplot:xlabel='num_pages'>"
      ]
     },
     "execution_count": 20,
     "metadata": {},
     "output_type": "execute_result"
    },
    {
     "data": {
      "image/png": "[encoded data removed]",
      "text/plain": [
       "<Figure size 432x288 with 1 Axes>"
      ]
     },
     "metadata": {},
     "output_type": "display_data"
    }
   ],
   "source": [
    "sns.boxplot(x=booksdata['num_pages'])"
   ]
  },
  {
   "cell_type": "markdown",
   "id": "0b95b325-feef-46f6-b054-092a01d68212",
   "metadata": {},
   "source": [
    "**There is no more outlier in num_pages**"
   ]
  },
  {
   "cell_type": "markdown",
   "id": "3279ee2d-ae9b-4ffa-9a83-3f6a543448d6",
   "metadata": {},
   "source": [
    "**We have to do the same for raintgs_count & text_reviews_count**"
   ]
  },
  {
   "cell_type": "code",
   "execution_count": 21,
   "id": "398676bf-0090-4bbf-92ec-98494c39d76f",
   "metadata": {},
   "outputs": [
    {
     "data": {
      "text/plain": [
       "<AxesSubplot:xlabel='ratings_count'>"
      ]
     },
     "execution_count": 21,
     "metadata": {},
     "output_type": "execute_result"
    },
    {
     "data": {
      "image/png": "[encoded data removed]",
      "text/plain": [
       "<Figure size 432x288 with 1 Axes>"
      ]
     },
     "metadata": {},
     "output_type": "display_data"
    }
   ],
   "source": [
    "sns.boxplot(x=booksdata['ratings_count'])"
   ]
  },
  {
   "cell_type": "code",
   "execution_count": 22,
   "id": "aeb47ce7-9e62-4da0-bae5-c3a94d88bd9f",
   "metadata": {},
   "outputs": [],
   "source": [
    "booksdata = booksdata.drop(booksdata.index[booksdata['ratings_count'] >= 800000])"
   ]
  },
  {
   "cell_type": "code",
   "execution_count": 23,
   "id": "ca5c6b8d-5f21-4394-9940-1854194149ea",
   "metadata": {},
   "outputs": [
    {
     "data": {
      "text/plain": [
       "<AxesSubplot:xlabel='ratings_count'>"
      ]
     },
     "execution_count": 23,
     "metadata": {},
     "output_type": "execute_result"
    },
    {
     "data": {
      "image/png": "[encoded data removed]",
      "text/plain": [
       "<Figure size 432x288 with 1 Axes>"
      ]
     },
     "metadata": {},
     "output_type": "display_data"
    }
   ],
   "source": [
    "sns.boxplot(x=booksdata['ratings_count'])"
   ]
  },
  {
   "cell_type": "code",
   "execution_count": 24,
   "id": "9eca800b-71a1-485c-8fe1-0535d9421457",
   "metadata": {},
   "outputs": [
    {
     "data": {
      "text/plain": [
       "<AxesSubplot:xlabel='text_reviews_count'>"
      ]
     },
     "execution_count": 24,
     "metadata": {},
     "output_type": "execute_result"
    },
    {
     "data": {
      "image/png": "[encoded data removed]",
      "text/plain": [
       "<Figure size 432x288 with 1 Axes>"
      ]
     },
     "metadata": {},
     "output_type": "display_data"
    }
   ],
   "source": [
    "sns.boxplot(x=booksdata['text_reviews_count'])"
   ]
  },
  {
   "cell_type": "code",
   "execution_count": 25,
   "id": "6d7dad55-aa26-449e-99e6-0ae799ac7844",
   "metadata": {},
   "outputs": [],
   "source": [
    "booksdata = booksdata.drop(booksdata.index[booksdata['text_reviews_count'] >= 17500])"
   ]
  },
  {
   "cell_type": "code",
   "execution_count": 26,
   "id": "91ac16e1-4239-44de-a8cf-ac4434b2dff9",
   "metadata": {},
   "outputs": [
    {
     "data": {
      "text/plain": [
       "<AxesSubplot:xlabel='text_reviews_count'>"
      ]
     },
     "execution_count": 26,
     "metadata": {},
     "output_type": "execute_result"
    },
    {
     "data": {
      "image/png": "[encoded data removed]",
      "text/plain": [
       "<Figure size 432x288 with 1 Axes>"
      ]
     },
     "metadata": {},
     "output_type": "display_data"
    }
   ],
   "source": [
    "sns.boxplot(x=booksdata['text_reviews_count'])"
   ]
  },
  {
   "cell_type": "code",
   "execution_count": 27,
   "id": "bec414d3-885c-483b-abf6-bae46ee47a7d",
   "metadata": {},
   "outputs": [
    {
     "name": "stdout",
     "output_type": "stream",
     "text": [
      "<class 'pandas.core.frame.DataFrame'>\n",
      "Int64Index: 11051 entries, 2 to 11122\n",
      "Data columns (total 12 columns):\n",
      " #   Column              Non-Null Count  Dtype  \n",
      "---  ------              --------------  -----  \n",
      " 0   bookID              11051 non-null  int64  \n",
      " 1   title               11051 non-null  object \n",
      " 2   authors             11051 non-null  object \n",
      " 3   average_rating      11051 non-null  float64\n",
      " 4   isbn                11051 non-null  object \n",
      " 5   isbn13              11051 non-null  int64  \n",
      " 6   language_code       11051 non-null  object \n",
      " 7   num_pages           11051 non-null  int64  \n",
      " 8   ratings_count       11051 non-null  int64  \n",
      " 9   text_reviews_count  11051 non-null  int64  \n",
      " 10  publication_date    11051 non-null  object \n",
      " 11  publisher           11051 non-null  object \n",
      "dtypes: float64(1), int64(5), object(6)\n",
      "memory usage: 1.1+ MB\n"
     ]
    }
   ],
   "source": [
    "booksdata.info()"
   ]
  },
  {
   "cell_type": "markdown",
   "id": "63ca3466-7044-4d3b-898a-d285cf0fe1fa",
   "metadata": {},
   "source": [
    "## **3- Plots of relevant attributes**"
   ]
  },
  {
   "cell_type": "code",
   "execution_count": 28,
   "id": "58f4abf3-79ec-4508-a807-66f38ceac808",
   "metadata": {},
   "outputs": [
    {
     "name": "stderr",
     "output_type": "stream",
     "text": [
      "/var/folders/1g/mbsyqmtj245b7q7bk23pkk740000gn/T/ipykernel_36184/2111378999.py:3: UserWarning: To output multiple subplots, the figure containing the passed axes is being cleared\n",
      "  booksdata[['bookID','average_rating','isbn13','num_pages','ratings_count','text_reviews_count']].hist(ax = ax)\n"
     ]
    },
    {
     "data": {
      "image/png": "[encoded data removed]",
      "text/plain": [
       "<Figure size 1080x1440 with 6 Axes>"
      ]
     },
     "metadata": {},
     "output_type": "display_data"
    }
   ],
   "source": [
    "fig = plt.figure(figsize = (15,20))\n",
    "ax = fig.gca()\n",
    "booksdata[['bookID','average_rating','isbn13','num_pages','ratings_count','text_reviews_count']].hist(ax = ax)\n",
    "plt.show()"
   ]
  },
  {
   "cell_type": "code",
   "execution_count": 29,
   "id": "6d4249ac-14f0-422c-8ca3-9e0e3b6e62c9",
   "metadata": {},
   "outputs": [
    {
     "name": "stderr",
     "output_type": "stream",
     "text": [
      "/Users/alisemlali/opt/anaconda3/lib/python3.9/site-packages/seaborn/_decorators.py:36: FutureWarning: Pass the following variables as keyword args: x, y. From version 0.12, the only valid positional argument will be `data`, and passing other arguments without an explicit keyword will result in an error or misinterpretation.\n",
      "  warnings.warn(\n"
     ]
    },
    {
     "data": {
      "text/plain": [
       "(array([ 0,  1,  2,  3,  4,  5,  6,  7,  8,  9, 10, 11, 12, 13, 14, 15, 16,\n",
       "        17, 18, 19]),\n",
       " [Text(0, 0, '3.82'),\n",
       "  Text(1, 0, '3.83'),\n",
       "  Text(2, 0, '3.88'),\n",
       "  Text(3, 0, '3.89'),\n",
       "  Text(4, 0, '3.9'),\n",
       "  Text(5, 0, '3.92'),\n",
       "  Text(6, 0, '3.93'),\n",
       "  Text(7, 0, '3.94'),\n",
       "  Text(8, 0, '3.96'),\n",
       "  Text(9, 0, '3.97'),\n",
       "  Text(10, 0, '3.98'),\n",
       "  Text(11, 0, '3.99'),\n",
       "  Text(12, 0, '4.0'),\n",
       "  Text(13, 0, '4.02'),\n",
       "  Text(14, 0, '4.04'),\n",
       "  Text(15, 0, '4.05'),\n",
       "  Text(16, 0, '4.06'),\n",
       "  Text(17, 0, '4.07'),\n",
       "  Text(18, 0, '4.09'),\n",
       "  Text(19, 0, '4.17')])"
      ]
     },
     "execution_count": 29,
     "metadata": {},
     "output_type": "execute_result"
    },
    {
     "data": {
      "image/png": "[encoded data removed]",
      "text/plain": [
       "<Figure size 432x288 with 1 Axes>"
      ]
     },
     "metadata": {},
     "output_type": "display_data"
    }
   ],
   "source": [
    "def colors(values, palette_n):\n",
    "    # normalize the values to range [0, 1]\n",
    "    normalized = (values - min(values)) / (max(values) - min(values))\n",
    "    # convert to indices\n",
    "    indices = np.round(normalized * (len(values) - 1)).astype(np.int32)\n",
    "    # use the indices to get the colors\n",
    "    palette = sns.color_palette(palette_n, len(values))\n",
    "    return np.array(palette).take(indices, axis=0)\n",
    "\n",
    "x=booksdata['average_rating'].value_counts().head(20).index\n",
    "y=booksdata['average_rating'].value_counts().head(20)\n",
    "sns.barplot(x,y,palette=colors(y, \"icefire\"))\n",
    "plt.title('Number of books per rating')\n",
    "plt.xlabel('Ratings')\n",
    "plt.ylabel('Number of books')\n",
    "plt.xticks(rotation=100)"
   ]
  },
  {
   "cell_type": "code",
   "execution_count": 30,
   "id": "1827b265-e98b-4d10-80b7-2241eae8d428",
   "metadata": {},
   "outputs": [
    {
     "data": {
      "text/plain": [
       "Text(0, 0.5, 'Number of pages')"
      ]
     },
     "execution_count": 30,
     "metadata": {},
     "output_type": "execute_result"
    },
    {
     "data": {
      "image/png": "[encoded data removed]",
      "text/plain": [
       "<Figure size 576x576 with 1 Axes>"
      ]
     },
     "metadata": {},
     "output_type": "display_data"
    }
   ],
   "source": [
    "plt.subplots(figsize=(8, 8))\n",
    "plt.scatter(booksdata.average_rating,booksdata.num_pages)\n",
    "plt.title(\"Relation between number of pages and average rating\")\n",
    "plt.xlabel(\"Average rating\")\n",
    "plt.ylabel(\"Number of pages\")"
   ]
  },
  {
   "cell_type": "code",
   "execution_count": 31,
   "id": "2776141a-5953-4aec-9cc4-4bef1ebfdb10",
   "metadata": {},
   "outputs": [
    {
     "name": "stderr",
     "output_type": "stream",
     "text": [
      "/Users/alisemlali/opt/anaconda3/lib/python3.9/site-packages/seaborn/_decorators.py:36: FutureWarning: Pass the following variables as keyword args: x, y. From version 0.12, the only valid positional argument will be `data`, and passing other arguments without an explicit keyword will result in an error or misinterpretation.\n",
      "  warnings.warn(\n"
     ]
    },
    {
     "data": {
      "image/png": "[encoded data removed]",
      "text/plain": [
       "<Figure size 864x576 with 1 Axes>"
      ]
     },
     "metadata": {},
     "output_type": "display_data"
    }
   ],
   "source": [
    "# What are the TOP 15 books that have most number of ratings ? \n",
    "\n",
    "\n",
    "TOP15 = booksdata.nlargest(15, ['ratings_count']).set_index('title')['ratings_count']\n",
    "plot_dims = (12, 8)\n",
    "fig, ax = plt.subplots(figsize=plot_dims)\n",
    "sns.barplot(TOP15, TOP15.index)\n",
    "plt.show()"
   ]
  },
  {
   "cell_type": "markdown",
   "id": "04054f7e-d53d-4c90-9937-33e4a1abbe96",
   "metadata": {},
   "source": [
    "## **4-Feature selection : feature engineering, feature pruning and choice justification**"
   ]
  },
  {
   "cell_type": "code",
   "execution_count": 32,
   "id": "35efd498-3361-4bb3-bc4b-b9d2a66fafe6",
   "metadata": {},
   "outputs": [
    {
     "data": {
      "text/html": [
       "<div>\n",
       "<style scoped>\n",
       "    .dataframe tbody tr th:only-of-type {\n",
       "        vertical-align: middle;\n",
       "    }\n",
       "\n",
       "    .dataframe tbody tr th {\n",
       "        vertical-align: top;\n",
       "    }\n",
       "\n",
       "    .dataframe thead th {\n",
       "        text-align: right;\n",
       "    }\n",
       "</style>\n",
       "<table border=\"1\" class=\"dataframe\">\n",
       "  <thead>\n",
       "    <tr style=\"text-align: right;\">\n",
       "      <th></th>\n",
       "      <th>bookID</th>\n",
       "      <th>title</th>\n",
       "      <th>authors</th>\n",
       "      <th>average_rating</th>\n",
       "      <th>isbn</th>\n",
       "      <th>isbn13</th>\n",
       "      <th>language_code</th>\n",
       "      <th>num_pages</th>\n",
       "      <th>ratings_count</th>\n",
       "      <th>text_reviews_count</th>\n",
       "      <th>publication_date</th>\n",
       "      <th>publisher</th>\n",
       "    </tr>\n",
       "  </thead>\n",
       "  <tbody>\n",
       "    <tr>\n",
       "      <th>2</th>\n",
       "      <td>4</td>\n",
       "      <td>Harry Potter and the Chamber of Secrets (Harry...</td>\n",
       "      <td>J.K. Rowling</td>\n",
       "      <td>4.42</td>\n",
       "      <td>0439554896</td>\n",
       "      <td>9780439554893</td>\n",
       "      <td>eng</td>\n",
       "      <td>352</td>\n",
       "      <td>6333</td>\n",
       "      <td>244</td>\n",
       "      <td>11/1/2003</td>\n",
       "      <td>Scholastic</td>\n",
       "    </tr>\n",
       "    <tr>\n",
       "      <th>5</th>\n",
       "      <td>9</td>\n",
       "      <td>Unauthorized Harry Potter Book Seven News: \"Ha...</td>\n",
       "      <td>W. Frederick Zimmerman</td>\n",
       "      <td>3.74</td>\n",
       "      <td>0976540606</td>\n",
       "      <td>9780976540601</td>\n",
       "      <td>eng</td>\n",
       "      <td>152</td>\n",
       "      <td>19</td>\n",
       "      <td>1</td>\n",
       "      <td>4/26/2005</td>\n",
       "      <td>Nimble Books</td>\n",
       "    </tr>\n",
       "    <tr>\n",
       "      <th>7</th>\n",
       "      <td>12</td>\n",
       "      <td>The Ultimate Hitchhiker's Guide: Five Complete...</td>\n",
       "      <td>Douglas Adams</td>\n",
       "      <td>4.38</td>\n",
       "      <td>0517226952</td>\n",
       "      <td>9780517226957</td>\n",
       "      <td>eng</td>\n",
       "      <td>815</td>\n",
       "      <td>3628</td>\n",
       "      <td>254</td>\n",
       "      <td>11/1/2005</td>\n",
       "      <td>Gramercy Books</td>\n",
       "    </tr>\n",
       "    <tr>\n",
       "      <th>8</th>\n",
       "      <td>13</td>\n",
       "      <td>The Ultimate Hitchhiker's Guide to the Galaxy ...</td>\n",
       "      <td>Douglas Adams</td>\n",
       "      <td>4.38</td>\n",
       "      <td>0345453743</td>\n",
       "      <td>9780345453747</td>\n",
       "      <td>eng</td>\n",
       "      <td>815</td>\n",
       "      <td>249558</td>\n",
       "      <td>4080</td>\n",
       "      <td>4/30/2002</td>\n",
       "      <td>Del Rey Books</td>\n",
       "    </tr>\n",
       "    <tr>\n",
       "      <th>9</th>\n",
       "      <td>14</td>\n",
       "      <td>The Hitchhiker's Guide to the Galaxy (Hitchhik...</td>\n",
       "      <td>Douglas Adams</td>\n",
       "      <td>4.22</td>\n",
       "      <td>1400052920</td>\n",
       "      <td>9781400052929</td>\n",
       "      <td>eng</td>\n",
       "      <td>215</td>\n",
       "      <td>4930</td>\n",
       "      <td>460</td>\n",
       "      <td>8/3/2004</td>\n",
       "      <td>Crown</td>\n",
       "    </tr>\n",
       "  </tbody>\n",
       "</table>\n",
       "</div>"
      ],
      "text/plain": [
       "   bookID                                              title  \\\n",
       "2       4  Harry Potter and the Chamber of Secrets (Harry...   \n",
       "5       9  Unauthorized Harry Potter Book Seven News: \"Ha...   \n",
       "7      12  The Ultimate Hitchhiker's Guide: Five Complete...   \n",
       "8      13  The Ultimate Hitchhiker's Guide to the Galaxy ...   \n",
       "9      14  The Hitchhiker's Guide to the Galaxy (Hitchhik...   \n",
       "\n",
       "                  authors  average_rating        isbn         isbn13  \\\n",
       "2            J.K. Rowling            4.42  0439554896  9780439554893   \n",
       "5  W. Frederick Zimmerman            3.74  0976540606  9780976540601   \n",
       "7           Douglas Adams            4.38  0517226952  9780517226957   \n",
       "8           Douglas Adams            4.38  0345453743  9780345453747   \n",
       "9           Douglas Adams            4.22  1400052920  9781400052929   \n",
       "\n",
       "  language_code  num_pages  ratings_count  text_reviews_count  \\\n",
       "2           eng        352           6333                 244   \n",
       "5           eng        152             19                   1   \n",
       "7           eng        815           3628                 254   \n",
       "8           eng        815         249558                4080   \n",
       "9           eng        215           4930                 460   \n",
       "\n",
       "  publication_date       publisher  \n",
       "2        11/1/2003      Scholastic  \n",
       "5        4/26/2005    Nimble Books  \n",
       "7        11/1/2005  Gramercy Books  \n",
       "8        4/30/2002   Del Rey Books  \n",
       "9         8/3/2004           Crown  "
      ]
     },
     "execution_count": 32,
     "metadata": {},
     "output_type": "execute_result"
    }
   ],
   "source": [
    "booksdata.head()"
   ]
  },
  {
   "cell_type": "code",
   "execution_count": 33,
   "id": "8ecec5b3-9c05-4d39-8f45-d3b6e129554a",
   "metadata": {},
   "outputs": [],
   "source": [
    "booksdata['title'] = preprocessing.LabelEncoder().fit_transform(booksdata['title'])"
   ]
  },
  {
   "cell_type": "code",
   "execution_count": 34,
   "id": "c4d80d32-7785-4a2d-befd-816d293eaf9c",
   "metadata": {},
   "outputs": [
    {
     "data": {
      "text/html": [
       "<div>\n",
       "<style scoped>\n",
       "    .dataframe tbody tr th:only-of-type {\n",
       "        vertical-align: middle;\n",
       "    }\n",
       "\n",
       "    .dataframe tbody tr th {\n",
       "        vertical-align: top;\n",
       "    }\n",
       "\n",
       "    .dataframe thead th {\n",
       "        text-align: right;\n",
       "    }\n",
       "</style>\n",
       "<table border=\"1\" class=\"dataframe\">\n",
       "  <thead>\n",
       "    <tr style=\"text-align: right;\">\n",
       "      <th></th>\n",
       "      <th>bookID</th>\n",
       "      <th>title</th>\n",
       "      <th>authors</th>\n",
       "      <th>average_rating</th>\n",
       "      <th>isbn</th>\n",
       "      <th>isbn13</th>\n",
       "      <th>language_code</th>\n",
       "      <th>num_pages</th>\n",
       "      <th>ratings_count</th>\n",
       "      <th>text_reviews_count</th>\n",
       "      <th>publication_date</th>\n",
       "      <th>publisher</th>\n",
       "    </tr>\n",
       "  </thead>\n",
       "  <tbody>\n",
       "    <tr>\n",
       "      <th>2</th>\n",
       "      <td>4</td>\n",
       "      <td>3060</td>\n",
       "      <td>J.K. Rowling</td>\n",
       "      <td>4.42</td>\n",
       "      <td>0439554896</td>\n",
       "      <td>9780439554893</td>\n",
       "      <td>eng</td>\n",
       "      <td>352</td>\n",
       "      <td>6333</td>\n",
       "      <td>244</td>\n",
       "      <td>11/1/2003</td>\n",
       "      <td>Scholastic</td>\n",
       "    </tr>\n",
       "    <tr>\n",
       "      <th>5</th>\n",
       "      <td>9</td>\n",
       "      <td>9647</td>\n",
       "      <td>W. Frederick Zimmerman</td>\n",
       "      <td>3.74</td>\n",
       "      <td>0976540606</td>\n",
       "      <td>9780976540601</td>\n",
       "      <td>eng</td>\n",
       "      <td>152</td>\n",
       "      <td>19</td>\n",
       "      <td>1</td>\n",
       "      <td>4/26/2005</td>\n",
       "      <td>Nimble Books</td>\n",
       "    </tr>\n",
       "    <tr>\n",
       "      <th>7</th>\n",
       "      <td>12</td>\n",
       "      <td>9077</td>\n",
       "      <td>Douglas Adams</td>\n",
       "      <td>4.38</td>\n",
       "      <td>0517226952</td>\n",
       "      <td>9780517226957</td>\n",
       "      <td>eng</td>\n",
       "      <td>815</td>\n",
       "      <td>3628</td>\n",
       "      <td>254</td>\n",
       "      <td>11/1/2005</td>\n",
       "      <td>Gramercy Books</td>\n",
       "    </tr>\n",
       "    <tr>\n",
       "      <th>8</th>\n",
       "      <td>13</td>\n",
       "      <td>9076</td>\n",
       "      <td>Douglas Adams</td>\n",
       "      <td>4.38</td>\n",
       "      <td>0345453743</td>\n",
       "      <td>9780345453747</td>\n",
       "      <td>eng</td>\n",
       "      <td>815</td>\n",
       "      <td>249558</td>\n",
       "      <td>4080</td>\n",
       "      <td>4/30/2002</td>\n",
       "      <td>Del Rey Books</td>\n",
       "    </tr>\n",
       "    <tr>\n",
       "      <th>9</th>\n",
       "      <td>14</td>\n",
       "      <td>7767</td>\n",
       "      <td>Douglas Adams</td>\n",
       "      <td>4.22</td>\n",
       "      <td>1400052920</td>\n",
       "      <td>9781400052929</td>\n",
       "      <td>eng</td>\n",
       "      <td>215</td>\n",
       "      <td>4930</td>\n",
       "      <td>460</td>\n",
       "      <td>8/3/2004</td>\n",
       "      <td>Crown</td>\n",
       "    </tr>\n",
       "  </tbody>\n",
       "</table>\n",
       "</div>"
      ],
      "text/plain": [
       "   bookID  title                 authors  average_rating        isbn  \\\n",
       "2       4   3060            J.K. Rowling            4.42  0439554896   \n",
       "5       9   9647  W. Frederick Zimmerman            3.74  0976540606   \n",
       "7      12   9077           Douglas Adams            4.38  0517226952   \n",
       "8      13   9076           Douglas Adams            4.38  0345453743   \n",
       "9      14   7767           Douglas Adams            4.22  1400052920   \n",
       "\n",
       "          isbn13 language_code  num_pages  ratings_count  text_reviews_count  \\\n",
       "2  9780439554893           eng        352           6333                 244   \n",
       "5  9780976540601           eng        152             19                   1   \n",
       "7  9780517226957           eng        815           3628                 254   \n",
       "8  9780345453747           eng        815         249558                4080   \n",
       "9  9781400052929           eng        215           4930                 460   \n",
       "\n",
       "  publication_date       publisher  \n",
       "2        11/1/2003      Scholastic  \n",
       "5        4/26/2005    Nimble Books  \n",
       "7        11/1/2005  Gramercy Books  \n",
       "8        4/30/2002   Del Rey Books  \n",
       "9         8/3/2004           Crown  "
      ]
     },
     "execution_count": 34,
     "metadata": {},
     "output_type": "execute_result"
    }
   ],
   "source": [
    "booksdata.head()"
   ]
  },
  {
   "cell_type": "code",
   "execution_count": 35,
   "id": "95130081-e3bb-4f2f-80c7-a2d34f08e709",
   "metadata": {},
   "outputs": [],
   "source": [
    "booksdata['authors'] = preprocessing.LabelEncoder().fit_transform(booksdata['authors'])"
   ]
  },
  {
   "cell_type": "code",
   "execution_count": 36,
   "id": "c645d575-cdef-47d0-bd1e-1d6c216450de",
   "metadata": {},
   "outputs": [
    {
     "data": {
      "text/html": [
       "<div>\n",
       "<style scoped>\n",
       "    .dataframe tbody tr th:only-of-type {\n",
       "        vertical-align: middle;\n",
       "    }\n",
       "\n",
       "    .dataframe tbody tr th {\n",
       "        vertical-align: top;\n",
       "    }\n",
       "\n",
       "    .dataframe thead th {\n",
       "        text-align: right;\n",
       "    }\n",
       "</style>\n",
       "<table border=\"1\" class=\"dataframe\">\n",
       "  <thead>\n",
       "    <tr style=\"text-align: right;\">\n",
       "      <th></th>\n",
       "      <th>bookID</th>\n",
       "      <th>title</th>\n",
       "      <th>authors</th>\n",
       "      <th>average_rating</th>\n",
       "      <th>isbn</th>\n",
       "      <th>isbn13</th>\n",
       "      <th>language_code</th>\n",
       "      <th>num_pages</th>\n",
       "      <th>ratings_count</th>\n",
       "      <th>text_reviews_count</th>\n",
       "      <th>publication_date</th>\n",
       "      <th>publisher</th>\n",
       "    </tr>\n",
       "  </thead>\n",
       "  <tbody>\n",
       "    <tr>\n",
       "      <th>2</th>\n",
       "      <td>4</td>\n",
       "      <td>3060</td>\n",
       "      <td>2615</td>\n",
       "      <td>4.42</td>\n",
       "      <td>0439554896</td>\n",
       "      <td>9780439554893</td>\n",
       "      <td>eng</td>\n",
       "      <td>352</td>\n",
       "      <td>6333</td>\n",
       "      <td>244</td>\n",
       "      <td>11/1/2003</td>\n",
       "      <td>Scholastic</td>\n",
       "    </tr>\n",
       "    <tr>\n",
       "      <th>5</th>\n",
       "      <td>9</td>\n",
       "      <td>9647</td>\n",
       "      <td>6289</td>\n",
       "      <td>3.74</td>\n",
       "      <td>0976540606</td>\n",
       "      <td>9780976540601</td>\n",
       "      <td>eng</td>\n",
       "      <td>152</td>\n",
       "      <td>19</td>\n",
       "      <td>1</td>\n",
       "      <td>4/26/2005</td>\n",
       "      <td>Nimble Books</td>\n",
       "    </tr>\n",
       "    <tr>\n",
       "      <th>7</th>\n",
       "      <td>12</td>\n",
       "      <td>9077</td>\n",
       "      <td>1462</td>\n",
       "      <td>4.38</td>\n",
       "      <td>0517226952</td>\n",
       "      <td>9780517226957</td>\n",
       "      <td>eng</td>\n",
       "      <td>815</td>\n",
       "      <td>3628</td>\n",
       "      <td>254</td>\n",
       "      <td>11/1/2005</td>\n",
       "      <td>Gramercy Books</td>\n",
       "    </tr>\n",
       "    <tr>\n",
       "      <th>8</th>\n",
       "      <td>13</td>\n",
       "      <td>9076</td>\n",
       "      <td>1462</td>\n",
       "      <td>4.38</td>\n",
       "      <td>0345453743</td>\n",
       "      <td>9780345453747</td>\n",
       "      <td>eng</td>\n",
       "      <td>815</td>\n",
       "      <td>249558</td>\n",
       "      <td>4080</td>\n",
       "      <td>4/30/2002</td>\n",
       "      <td>Del Rey Books</td>\n",
       "    </tr>\n",
       "    <tr>\n",
       "      <th>9</th>\n",
       "      <td>14</td>\n",
       "      <td>7767</td>\n",
       "      <td>1462</td>\n",
       "      <td>4.22</td>\n",
       "      <td>1400052920</td>\n",
       "      <td>9781400052929</td>\n",
       "      <td>eng</td>\n",
       "      <td>215</td>\n",
       "      <td>4930</td>\n",
       "      <td>460</td>\n",
       "      <td>8/3/2004</td>\n",
       "      <td>Crown</td>\n",
       "    </tr>\n",
       "  </tbody>\n",
       "</table>\n",
       "</div>"
      ],
      "text/plain": [
       "   bookID  title  authors  average_rating        isbn         isbn13  \\\n",
       "2       4   3060     2615            4.42  0439554896  9780439554893   \n",
       "5       9   9647     6289            3.74  0976540606  9780976540601   \n",
       "7      12   9077     1462            4.38  0517226952  9780517226957   \n",
       "8      13   9076     1462            4.38  0345453743  9780345453747   \n",
       "9      14   7767     1462            4.22  1400052920  9781400052929   \n",
       "\n",
       "  language_code  num_pages  ratings_count  text_reviews_count  \\\n",
       "2           eng        352           6333                 244   \n",
       "5           eng        152             19                   1   \n",
       "7           eng        815           3628                 254   \n",
       "8           eng        815         249558                4080   \n",
       "9           eng        215           4930                 460   \n",
       "\n",
       "  publication_date       publisher  \n",
       "2        11/1/2003      Scholastic  \n",
       "5        4/26/2005    Nimble Books  \n",
       "7        11/1/2005  Gramercy Books  \n",
       "8        4/30/2002   Del Rey Books  \n",
       "9         8/3/2004           Crown  "
      ]
     },
     "execution_count": 36,
     "metadata": {},
     "output_type": "execute_result"
    }
   ],
   "source": [
    "booksdata.head()"
   ]
  },
  {
   "cell_type": "code",
   "execution_count": 37,
   "id": "067f27f1-4cea-4138-b7cb-04b35617e316",
   "metadata": {},
   "outputs": [],
   "source": [
    "booksdata['publisher'] = preprocessing.LabelEncoder().fit_transform(booksdata['publisher'])"
   ]
  },
  {
   "cell_type": "code",
   "execution_count": 38,
   "id": "3f849f89-c555-4665-8884-f74a59f31975",
   "metadata": {},
   "outputs": [
    {
     "data": {
      "text/html": [
       "<div>\n",
       "<style scoped>\n",
       "    .dataframe tbody tr th:only-of-type {\n",
       "        vertical-align: middle;\n",
       "    }\n",
       "\n",
       "    .dataframe tbody tr th {\n",
       "        vertical-align: top;\n",
       "    }\n",
       "\n",
       "    .dataframe thead th {\n",
       "        text-align: right;\n",
       "    }\n",
       "</style>\n",
       "<table border=\"1\" class=\"dataframe\">\n",
       "  <thead>\n",
       "    <tr style=\"text-align: right;\">\n",
       "      <th></th>\n",
       "      <th>bookID</th>\n",
       "      <th>title</th>\n",
       "      <th>authors</th>\n",
       "      <th>average_rating</th>\n",
       "      <th>isbn</th>\n",
       "      <th>isbn13</th>\n",
       "      <th>language_code</th>\n",
       "      <th>num_pages</th>\n",
       "      <th>ratings_count</th>\n",
       "      <th>text_reviews_count</th>\n",
       "      <th>publication_date</th>\n",
       "      <th>publisher</th>\n",
       "    </tr>\n",
       "  </thead>\n",
       "  <tbody>\n",
       "    <tr>\n",
       "      <th>2</th>\n",
       "      <td>4</td>\n",
       "      <td>3060</td>\n",
       "      <td>2615</td>\n",
       "      <td>4.42</td>\n",
       "      <td>0439554896</td>\n",
       "      <td>9780439554893</td>\n",
       "      <td>eng</td>\n",
       "      <td>352</td>\n",
       "      <td>6333</td>\n",
       "      <td>244</td>\n",
       "      <td>11/1/2003</td>\n",
       "      <td>1766</td>\n",
       "    </tr>\n",
       "    <tr>\n",
       "      <th>5</th>\n",
       "      <td>9</td>\n",
       "      <td>9647</td>\n",
       "      <td>6289</td>\n",
       "      <td>3.74</td>\n",
       "      <td>0976540606</td>\n",
       "      <td>9780976540601</td>\n",
       "      <td>eng</td>\n",
       "      <td>152</td>\n",
       "      <td>19</td>\n",
       "      <td>1</td>\n",
       "      <td>4/26/2005</td>\n",
       "      <td>1361</td>\n",
       "    </tr>\n",
       "    <tr>\n",
       "      <th>7</th>\n",
       "      <td>12</td>\n",
       "      <td>9077</td>\n",
       "      <td>1462</td>\n",
       "      <td>4.38</td>\n",
       "      <td>0517226952</td>\n",
       "      <td>9780517226957</td>\n",
       "      <td>eng</td>\n",
       "      <td>815</td>\n",
       "      <td>3628</td>\n",
       "      <td>254</td>\n",
       "      <td>11/1/2005</td>\n",
       "      <td>786</td>\n",
       "    </tr>\n",
       "    <tr>\n",
       "      <th>8</th>\n",
       "      <td>13</td>\n",
       "      <td>9076</td>\n",
       "      <td>1462</td>\n",
       "      <td>4.38</td>\n",
       "      <td>0345453743</td>\n",
       "      <td>9780345453747</td>\n",
       "      <td>eng</td>\n",
       "      <td>815</td>\n",
       "      <td>249558</td>\n",
       "      <td>4080</td>\n",
       "      <td>4/30/2002</td>\n",
       "      <td>521</td>\n",
       "    </tr>\n",
       "    <tr>\n",
       "      <th>9</th>\n",
       "      <td>14</td>\n",
       "      <td>7767</td>\n",
       "      <td>1462</td>\n",
       "      <td>4.22</td>\n",
       "      <td>1400052920</td>\n",
       "      <td>9781400052929</td>\n",
       "      <td>eng</td>\n",
       "      <td>215</td>\n",
       "      <td>4930</td>\n",
       "      <td>460</td>\n",
       "      <td>8/3/2004</td>\n",
       "      <td>467</td>\n",
       "    </tr>\n",
       "  </tbody>\n",
       "</table>\n",
       "</div>"
      ],
      "text/plain": [
       "   bookID  title  authors  average_rating        isbn         isbn13  \\\n",
       "2       4   3060     2615            4.42  0439554896  9780439554893   \n",
       "5       9   9647     6289            3.74  0976540606  9780976540601   \n",
       "7      12   9077     1462            4.38  0517226952  9780517226957   \n",
       "8      13   9076     1462            4.38  0345453743  9780345453747   \n",
       "9      14   7767     1462            4.22  1400052920  9781400052929   \n",
       "\n",
       "  language_code  num_pages  ratings_count  text_reviews_count  \\\n",
       "2           eng        352           6333                 244   \n",
       "5           eng        152             19                   1   \n",
       "7           eng        815           3628                 254   \n",
       "8           eng        815         249558                4080   \n",
       "9           eng        215           4930                 460   \n",
       "\n",
       "  publication_date  publisher  \n",
       "2        11/1/2003       1766  \n",
       "5        4/26/2005       1361  \n",
       "7        11/1/2005        786  \n",
       "8        4/30/2002        521  \n",
       "9         8/3/2004        467  "
      ]
     },
     "execution_count": 38,
     "metadata": {},
     "output_type": "execute_result"
    }
   ],
   "source": [
    "booksdata.head()"
   ]
  },
  {
   "cell_type": "code",
   "execution_count": 39,
   "id": "75a15791-2da6-440e-884b-40eaa34e863d",
   "metadata": {},
   "outputs": [],
   "source": [
    "from sklearn.preprocessing import OrdinalEncoder\n",
    "\n",
    "OE = OrdinalEncoder()\n",
    "booksdata[['language_code']] = OE.fit_transform(booksdata[['language_code']])"
   ]
  },
  {
   "cell_type": "code",
   "execution_count": 40,
   "id": "135957ec-2351-4589-a7fd-4f64d8c3a1bf",
   "metadata": {},
   "outputs": [
    {
     "data": {
      "text/html": [
       "<div>\n",
       "<style scoped>\n",
       "    .dataframe tbody tr th:only-of-type {\n",
       "        vertical-align: middle;\n",
       "    }\n",
       "\n",
       "    .dataframe tbody tr th {\n",
       "        vertical-align: top;\n",
       "    }\n",
       "\n",
       "    .dataframe thead th {\n",
       "        text-align: right;\n",
       "    }\n",
       "</style>\n",
       "<table border=\"1\" class=\"dataframe\">\n",
       "  <thead>\n",
       "    <tr style=\"text-align: right;\">\n",
       "      <th></th>\n",
       "      <th>bookID</th>\n",
       "      <th>title</th>\n",
       "      <th>authors</th>\n",
       "      <th>average_rating</th>\n",
       "      <th>isbn</th>\n",
       "      <th>isbn13</th>\n",
       "      <th>language_code</th>\n",
       "      <th>num_pages</th>\n",
       "      <th>ratings_count</th>\n",
       "      <th>text_reviews_count</th>\n",
       "      <th>publication_date</th>\n",
       "      <th>publisher</th>\n",
       "    </tr>\n",
       "  </thead>\n",
       "  <tbody>\n",
       "    <tr>\n",
       "      <th>2</th>\n",
       "      <td>4</td>\n",
       "      <td>3060</td>\n",
       "      <td>2615</td>\n",
       "      <td>4.42</td>\n",
       "      <td>0439554896</td>\n",
       "      <td>9780439554893</td>\n",
       "      <td>2.0</td>\n",
       "      <td>352</td>\n",
       "      <td>6333</td>\n",
       "      <td>244</td>\n",
       "      <td>11/1/2003</td>\n",
       "      <td>1766</td>\n",
       "    </tr>\n",
       "    <tr>\n",
       "      <th>5</th>\n",
       "      <td>9</td>\n",
       "      <td>9647</td>\n",
       "      <td>6289</td>\n",
       "      <td>3.74</td>\n",
       "      <td>0976540606</td>\n",
       "      <td>9780976540601</td>\n",
       "      <td>2.0</td>\n",
       "      <td>152</td>\n",
       "      <td>19</td>\n",
       "      <td>1</td>\n",
       "      <td>4/26/2005</td>\n",
       "      <td>1361</td>\n",
       "    </tr>\n",
       "    <tr>\n",
       "      <th>7</th>\n",
       "      <td>12</td>\n",
       "      <td>9077</td>\n",
       "      <td>1462</td>\n",
       "      <td>4.38</td>\n",
       "      <td>0517226952</td>\n",
       "      <td>9780517226957</td>\n",
       "      <td>2.0</td>\n",
       "      <td>815</td>\n",
       "      <td>3628</td>\n",
       "      <td>254</td>\n",
       "      <td>11/1/2005</td>\n",
       "      <td>786</td>\n",
       "    </tr>\n",
       "    <tr>\n",
       "      <th>8</th>\n",
       "      <td>13</td>\n",
       "      <td>9076</td>\n",
       "      <td>1462</td>\n",
       "      <td>4.38</td>\n",
       "      <td>0345453743</td>\n",
       "      <td>9780345453747</td>\n",
       "      <td>2.0</td>\n",
       "      <td>815</td>\n",
       "      <td>249558</td>\n",
       "      <td>4080</td>\n",
       "      <td>4/30/2002</td>\n",
       "      <td>521</td>\n",
       "    </tr>\n",
       "    <tr>\n",
       "      <th>9</th>\n",
       "      <td>14</td>\n",
       "      <td>7767</td>\n",
       "      <td>1462</td>\n",
       "      <td>4.22</td>\n",
       "      <td>1400052920</td>\n",
       "      <td>9781400052929</td>\n",
       "      <td>2.0</td>\n",
       "      <td>215</td>\n",
       "      <td>4930</td>\n",
       "      <td>460</td>\n",
       "      <td>8/3/2004</td>\n",
       "      <td>467</td>\n",
       "    </tr>\n",
       "  </tbody>\n",
       "</table>\n",
       "</div>"
      ],
      "text/plain": [
       "   bookID  title  authors  average_rating        isbn         isbn13  \\\n",
       "2       4   3060     2615            4.42  0439554896  9780439554893   \n",
       "5       9   9647     6289            3.74  0976540606  9780976540601   \n",
       "7      12   9077     1462            4.38  0517226952  9780517226957   \n",
       "8      13   9076     1462            4.38  0345453743  9780345453747   \n",
       "9      14   7767     1462            4.22  1400052920  9781400052929   \n",
       "\n",
       "   language_code  num_pages  ratings_count  text_reviews_count  \\\n",
       "2            2.0        352           6333                 244   \n",
       "5            2.0        152             19                   1   \n",
       "7            2.0        815           3628                 254   \n",
       "8            2.0        815         249558                4080   \n",
       "9            2.0        215           4930                 460   \n",
       "\n",
       "  publication_date  publisher  \n",
       "2        11/1/2003       1766  \n",
       "5        4/26/2005       1361  \n",
       "7        11/1/2005        786  \n",
       "8        4/30/2002        521  \n",
       "9         8/3/2004        467  "
      ]
     },
     "execution_count": 40,
     "metadata": {},
     "output_type": "execute_result"
    }
   ],
   "source": [
    "booksdata.head()"
   ]
  },
  {
   "cell_type": "code",
   "execution_count": 41,
   "id": "cc46eb3e-e6f7-47e0-acd0-c0de7b24fb52",
   "metadata": {},
   "outputs": [
    {
     "name": "stdout",
     "output_type": "stream",
     "text": [
      "[ 2.  4. 18. 13.  8.  3.  5. 10.  1. 14. 23. 11. 16. 19.  9. 17. 12.  7.\n",
      " 22. 20. 15. 21.  6.  0.]\n"
     ]
    }
   ],
   "source": [
    "print(booksdata.language_code.unique())"
   ]
  },
  {
   "cell_type": "code",
   "execution_count": 42,
   "id": "a4fb8a82-bb29-4365-9eb4-c362e9e0ff14",
   "metadata": {},
   "outputs": [],
   "source": [
    "booksdata['publication_date'] = pd.to_datetime(booksdata['publication_date'], format='%m/%d/%Y', errors='coerce')"
   ]
  },
  {
   "cell_type": "code",
   "execution_count": 43,
   "id": "f4dd2bf7-f0fb-43d1-ab32-2de2d04b2c9c",
   "metadata": {},
   "outputs": [
    {
     "data": {
      "text/html": [
       "<div>\n",
       "<style scoped>\n",
       "    .dataframe tbody tr th:only-of-type {\n",
       "        vertical-align: middle;\n",
       "    }\n",
       "\n",
       "    .dataframe tbody tr th {\n",
       "        vertical-align: top;\n",
       "    }\n",
       "\n",
       "    .dataframe thead th {\n",
       "        text-align: right;\n",
       "    }\n",
       "</style>\n",
       "<table border=\"1\" class=\"dataframe\">\n",
       "  <thead>\n",
       "    <tr style=\"text-align: right;\">\n",
       "      <th></th>\n",
       "      <th>bookID</th>\n",
       "      <th>title</th>\n",
       "      <th>authors</th>\n",
       "      <th>average_rating</th>\n",
       "      <th>isbn</th>\n",
       "      <th>isbn13</th>\n",
       "      <th>language_code</th>\n",
       "      <th>num_pages</th>\n",
       "      <th>ratings_count</th>\n",
       "      <th>text_reviews_count</th>\n",
       "      <th>publication_date</th>\n",
       "      <th>publisher</th>\n",
       "    </tr>\n",
       "  </thead>\n",
       "  <tbody>\n",
       "    <tr>\n",
       "      <th>8177</th>\n",
       "      <td>31373</td>\n",
       "      <td>3450</td>\n",
       "      <td>1635</td>\n",
       "      <td>4.10</td>\n",
       "      <td>0553575104</td>\n",
       "      <td>9780553575101</td>\n",
       "      <td>2.0</td>\n",
       "      <td>718</td>\n",
       "      <td>10608</td>\n",
       "      <td>295</td>\n",
       "      <td>NaT</td>\n",
       "      <td>194</td>\n",
       "    </tr>\n",
       "    <tr>\n",
       "      <th>11094</th>\n",
       "      <td>45531</td>\n",
       "      <td>4613</td>\n",
       "      <td>1699</td>\n",
       "      <td>3.96</td>\n",
       "      <td>2070323285</td>\n",
       "      <td>9782070323289</td>\n",
       "      <td>4.0</td>\n",
       "      <td>640</td>\n",
       "      <td>15</td>\n",
       "      <td>2</td>\n",
       "      <td>NaT</td>\n",
       "      <td>720</td>\n",
       "    </tr>\n",
       "  </tbody>\n",
       "</table>\n",
       "</div>"
      ],
      "text/plain": [
       "       bookID  title  authors  average_rating        isbn         isbn13  \\\n",
       "8177    31373   3450     1635            4.10  0553575104  9780553575101   \n",
       "11094   45531   4613     1699            3.96  2070323285  9782070323289   \n",
       "\n",
       "       language_code  num_pages  ratings_count  text_reviews_count  \\\n",
       "8177             2.0        718          10608                 295   \n",
       "11094            4.0        640             15                   2   \n",
       "\n",
       "      publication_date  publisher  \n",
       "8177               NaT        194  \n",
       "11094              NaT        720  "
      ]
     },
     "execution_count": 43,
     "metadata": {},
     "output_type": "execute_result"
    }
   ],
   "source": [
    "booksdata[booksdata['publication_date'].isnull()]"
   ]
  },
  {
   "cell_type": "code",
   "execution_count": 44,
   "id": "0b61a3be-d47a-49cd-8d55-c3d9e2397ad9",
   "metadata": {},
   "outputs": [],
   "source": [
    "booksdata.loc[booksdata.bookID == 31373, 'publication_date'] = '1999-10-01 00:00:00'\n",
    "booksdata.loc[booksdata.bookID == 45531, 'publication_date'] = '1975-10-01 00:00:00'"
   ]
  },
  {
   "cell_type": "code",
   "execution_count": 45,
   "id": "31683ea2-8f9b-4d8f-9aa6-0d29c729c8b9",
   "metadata": {},
   "outputs": [],
   "source": [
    "booksdata['Year'] = pd.DatetimeIndex(booksdata['publication_date']).year"
   ]
  },
  {
   "cell_type": "code",
   "execution_count": 46,
   "id": "783d4b9f-f028-485f-b4d1-6be7957193e3",
   "metadata": {},
   "outputs": [
    {
     "data": {
      "text/html": [
       "<div>\n",
       "<style scoped>\n",
       "    .dataframe tbody tr th:only-of-type {\n",
       "        vertical-align: middle;\n",
       "    }\n",
       "\n",
       "    .dataframe tbody tr th {\n",
       "        vertical-align: top;\n",
       "    }\n",
       "\n",
       "    .dataframe thead th {\n",
       "        text-align: right;\n",
       "    }\n",
       "</style>\n",
       "<table border=\"1\" class=\"dataframe\">\n",
       "  <thead>\n",
       "    <tr style=\"text-align: right;\">\n",
       "      <th></th>\n",
       "      <th>bookID</th>\n",
       "      <th>title</th>\n",
       "      <th>authors</th>\n",
       "      <th>average_rating</th>\n",
       "      <th>isbn</th>\n",
       "      <th>isbn13</th>\n",
       "      <th>language_code</th>\n",
       "      <th>num_pages</th>\n",
       "      <th>ratings_count</th>\n",
       "      <th>text_reviews_count</th>\n",
       "      <th>publication_date</th>\n",
       "      <th>publisher</th>\n",
       "      <th>Year</th>\n",
       "    </tr>\n",
       "  </thead>\n",
       "  <tbody>\n",
       "    <tr>\n",
       "      <th>2</th>\n",
       "      <td>4</td>\n",
       "      <td>3060</td>\n",
       "      <td>2615</td>\n",
       "      <td>4.42</td>\n",
       "      <td>0439554896</td>\n",
       "      <td>9780439554893</td>\n",
       "      <td>2.0</td>\n",
       "      <td>352</td>\n",
       "      <td>6333</td>\n",
       "      <td>244</td>\n",
       "      <td>2003-11-01</td>\n",
       "      <td>1766</td>\n",
       "      <td>2003</td>\n",
       "    </tr>\n",
       "    <tr>\n",
       "      <th>5</th>\n",
       "      <td>9</td>\n",
       "      <td>9647</td>\n",
       "      <td>6289</td>\n",
       "      <td>3.74</td>\n",
       "      <td>0976540606</td>\n",
       "      <td>9780976540601</td>\n",
       "      <td>2.0</td>\n",
       "      <td>152</td>\n",
       "      <td>19</td>\n",
       "      <td>1</td>\n",
       "      <td>2005-04-26</td>\n",
       "      <td>1361</td>\n",
       "      <td>2005</td>\n",
       "    </tr>\n",
       "    <tr>\n",
       "      <th>7</th>\n",
       "      <td>12</td>\n",
       "      <td>9077</td>\n",
       "      <td>1462</td>\n",
       "      <td>4.38</td>\n",
       "      <td>0517226952</td>\n",
       "      <td>9780517226957</td>\n",
       "      <td>2.0</td>\n",
       "      <td>815</td>\n",
       "      <td>3628</td>\n",
       "      <td>254</td>\n",
       "      <td>2005-11-01</td>\n",
       "      <td>786</td>\n",
       "      <td>2005</td>\n",
       "    </tr>\n",
       "    <tr>\n",
       "      <th>8</th>\n",
       "      <td>13</td>\n",
       "      <td>9076</td>\n",
       "      <td>1462</td>\n",
       "      <td>4.38</td>\n",
       "      <td>0345453743</td>\n",
       "      <td>9780345453747</td>\n",
       "      <td>2.0</td>\n",
       "      <td>815</td>\n",
       "      <td>249558</td>\n",
       "      <td>4080</td>\n",
       "      <td>2002-04-30</td>\n",
       "      <td>521</td>\n",
       "      <td>2002</td>\n",
       "    </tr>\n",
       "    <tr>\n",
       "      <th>9</th>\n",
       "      <td>14</td>\n",
       "      <td>7767</td>\n",
       "      <td>1462</td>\n",
       "      <td>4.22</td>\n",
       "      <td>1400052920</td>\n",
       "      <td>9781400052929</td>\n",
       "      <td>2.0</td>\n",
       "      <td>215</td>\n",
       "      <td>4930</td>\n",
       "      <td>460</td>\n",
       "      <td>2004-08-03</td>\n",
       "      <td>467</td>\n",
       "      <td>2004</td>\n",
       "    </tr>\n",
       "  </tbody>\n",
       "</table>\n",
       "</div>"
      ],
      "text/plain": [
       "   bookID  title  authors  average_rating        isbn         isbn13  \\\n",
       "2       4   3060     2615            4.42  0439554896  9780439554893   \n",
       "5       9   9647     6289            3.74  0976540606  9780976540601   \n",
       "7      12   9077     1462            4.38  0517226952  9780517226957   \n",
       "8      13   9076     1462            4.38  0345453743  9780345453747   \n",
       "9      14   7767     1462            4.22  1400052920  9781400052929   \n",
       "\n",
       "   language_code  num_pages  ratings_count  text_reviews_count  \\\n",
       "2            2.0        352           6333                 244   \n",
       "5            2.0        152             19                   1   \n",
       "7            2.0        815           3628                 254   \n",
       "8            2.0        815         249558                4080   \n",
       "9            2.0        215           4930                 460   \n",
       "\n",
       "  publication_date  publisher  Year  \n",
       "2       2003-11-01       1766  2003  \n",
       "5       2005-04-26       1361  2005  \n",
       "7       2005-11-01        786  2005  \n",
       "8       2002-04-30        521  2002  \n",
       "9       2004-08-03        467  2004  "
      ]
     },
     "execution_count": 46,
     "metadata": {},
     "output_type": "execute_result"
    }
   ],
   "source": [
    "booksdata.head()"
   ]
  },
  {
   "cell_type": "code",
   "execution_count": 47,
   "id": "2200bc8f-c36e-4485-b366-707b6349befa",
   "metadata": {},
   "outputs": [],
   "source": [
    "booksdata['Month'] = pd.DatetimeIndex(booksdata['publication_date']).month"
   ]
  },
  {
   "cell_type": "code",
   "execution_count": 48,
   "id": "eb0e5419-8cdf-407c-a40e-4f1e22b1eef4",
   "metadata": {},
   "outputs": [
    {
     "data": {
      "text/html": [
       "<div>\n",
       "<style scoped>\n",
       "    .dataframe tbody tr th:only-of-type {\n",
       "        vertical-align: middle;\n",
       "    }\n",
       "\n",
       "    .dataframe tbody tr th {\n",
       "        vertical-align: top;\n",
       "    }\n",
       "\n",
       "    .dataframe thead th {\n",
       "        text-align: right;\n",
       "    }\n",
       "</style>\n",
       "<table border=\"1\" class=\"dataframe\">\n",
       "  <thead>\n",
       "    <tr style=\"text-align: right;\">\n",
       "      <th></th>\n",
       "      <th>bookID</th>\n",
       "      <th>title</th>\n",
       "      <th>authors</th>\n",
       "      <th>average_rating</th>\n",
       "      <th>isbn</th>\n",
       "      <th>isbn13</th>\n",
       "      <th>language_code</th>\n",
       "      <th>num_pages</th>\n",
       "      <th>ratings_count</th>\n",
       "      <th>text_reviews_count</th>\n",
       "      <th>publication_date</th>\n",
       "      <th>publisher</th>\n",
       "      <th>Year</th>\n",
       "      <th>Month</th>\n",
       "    </tr>\n",
       "  </thead>\n",
       "  <tbody>\n",
       "    <tr>\n",
       "      <th>2</th>\n",
       "      <td>4</td>\n",
       "      <td>3060</td>\n",
       "      <td>2615</td>\n",
       "      <td>4.42</td>\n",
       "      <td>0439554896</td>\n",
       "      <td>9780439554893</td>\n",
       "      <td>2.0</td>\n",
       "      <td>352</td>\n",
       "      <td>6333</td>\n",
       "      <td>244</td>\n",
       "      <td>2003-11-01</td>\n",
       "      <td>1766</td>\n",
       "      <td>2003</td>\n",
       "      <td>11</td>\n",
       "    </tr>\n",
       "    <tr>\n",
       "      <th>5</th>\n",
       "      <td>9</td>\n",
       "      <td>9647</td>\n",
       "      <td>6289</td>\n",
       "      <td>3.74</td>\n",
       "      <td>0976540606</td>\n",
       "      <td>9780976540601</td>\n",
       "      <td>2.0</td>\n",
       "      <td>152</td>\n",
       "      <td>19</td>\n",
       "      <td>1</td>\n",
       "      <td>2005-04-26</td>\n",
       "      <td>1361</td>\n",
       "      <td>2005</td>\n",
       "      <td>4</td>\n",
       "    </tr>\n",
       "    <tr>\n",
       "      <th>7</th>\n",
       "      <td>12</td>\n",
       "      <td>9077</td>\n",
       "      <td>1462</td>\n",
       "      <td>4.38</td>\n",
       "      <td>0517226952</td>\n",
       "      <td>9780517226957</td>\n",
       "      <td>2.0</td>\n",
       "      <td>815</td>\n",
       "      <td>3628</td>\n",
       "      <td>254</td>\n",
       "      <td>2005-11-01</td>\n",
       "      <td>786</td>\n",
       "      <td>2005</td>\n",
       "      <td>11</td>\n",
       "    </tr>\n",
       "    <tr>\n",
       "      <th>8</th>\n",
       "      <td>13</td>\n",
       "      <td>9076</td>\n",
       "      <td>1462</td>\n",
       "      <td>4.38</td>\n",
       "      <td>0345453743</td>\n",
       "      <td>9780345453747</td>\n",
       "      <td>2.0</td>\n",
       "      <td>815</td>\n",
       "      <td>249558</td>\n",
       "      <td>4080</td>\n",
       "      <td>2002-04-30</td>\n",
       "      <td>521</td>\n",
       "      <td>2002</td>\n",
       "      <td>4</td>\n",
       "    </tr>\n",
       "    <tr>\n",
       "      <th>9</th>\n",
       "      <td>14</td>\n",
       "      <td>7767</td>\n",
       "      <td>1462</td>\n",
       "      <td>4.22</td>\n",
       "      <td>1400052920</td>\n",
       "      <td>9781400052929</td>\n",
       "      <td>2.0</td>\n",
       "      <td>215</td>\n",
       "      <td>4930</td>\n",
       "      <td>460</td>\n",
       "      <td>2004-08-03</td>\n",
       "      <td>467</td>\n",
       "      <td>2004</td>\n",
       "      <td>8</td>\n",
       "    </tr>\n",
       "  </tbody>\n",
       "</table>\n",
       "</div>"
      ],
      "text/plain": [
       "   bookID  title  authors  average_rating        isbn         isbn13  \\\n",
       "2       4   3060     2615            4.42  0439554896  9780439554893   \n",
       "5       9   9647     6289            3.74  0976540606  9780976540601   \n",
       "7      12   9077     1462            4.38  0517226952  9780517226957   \n",
       "8      13   9076     1462            4.38  0345453743  9780345453747   \n",
       "9      14   7767     1462            4.22  1400052920  9781400052929   \n",
       "\n",
       "   language_code  num_pages  ratings_count  text_reviews_count  \\\n",
       "2            2.0        352           6333                 244   \n",
       "5            2.0        152             19                   1   \n",
       "7            2.0        815           3628                 254   \n",
       "8            2.0        815         249558                4080   \n",
       "9            2.0        215           4930                 460   \n",
       "\n",
       "  publication_date  publisher  Year  Month  \n",
       "2       2003-11-01       1766  2003     11  \n",
       "5       2005-04-26       1361  2005      4  \n",
       "7       2005-11-01        786  2005     11  \n",
       "8       2002-04-30        521  2002      4  \n",
       "9       2004-08-03        467  2004      8  "
      ]
     },
     "execution_count": 48,
     "metadata": {},
     "output_type": "execute_result"
    }
   ],
   "source": [
    "booksdata.head()"
   ]
  },
  {
   "cell_type": "code",
   "execution_count": 49,
   "id": "4c8cc5e2-5d45-46ab-ad65-8cff62dd8f70",
   "metadata": {},
   "outputs": [
    {
     "name": "stdout",
     "output_type": "stream",
     "text": [
      "<class 'pandas.core.frame.DataFrame'>\n",
      "Int64Index: 11051 entries, 2 to 11122\n",
      "Data columns (total 14 columns):\n",
      " #   Column              Non-Null Count  Dtype         \n",
      "---  ------              --------------  -----         \n",
      " 0   bookID              11051 non-null  int64         \n",
      " 1   title               11051 non-null  int64         \n",
      " 2   authors             11051 non-null  int64         \n",
      " 3   average_rating      11051 non-null  float64       \n",
      " 4   isbn                11051 non-null  object        \n",
      " 5   isbn13              11051 non-null  int64         \n",
      " 6   language_code       11051 non-null  float64       \n",
      " 7   num_pages           11051 non-null  int64         \n",
      " 8   ratings_count       11051 non-null  int64         \n",
      " 9   text_reviews_count  11051 non-null  int64         \n",
      " 10  publication_date    11051 non-null  datetime64[ns]\n",
      " 11  publisher           11051 non-null  int64         \n",
      " 12  Year                11051 non-null  int64         \n",
      " 13  Month               11051 non-null  int64         \n",
      "dtypes: datetime64[ns](1), float64(2), int64(10), object(1)\n",
      "memory usage: 1.3+ MB\n"
     ]
    }
   ],
   "source": [
    "booksdata.info()"
   ]
  },
  {
   "cell_type": "markdown",
   "id": "8eaa177d-5f31-4281-a559-1627def315fe",
   "metadata": {},
   "source": [
    "## **5- Models Training**"
   ]
  },
  {
   "cell_type": "code",
   "execution_count": 50,
   "id": "d98c08a5-a1a1-44e3-b74f-d846676e1aeb",
   "metadata": {},
   "outputs": [],
   "source": [
    "X = booksdata.drop(['average_rating', 'language_code', 'isbn','publication_date','Year','Month'], axis = 1)"
   ]
  },
  {
   "cell_type": "code",
   "execution_count": 51,
   "id": "bfce37a7-7b8d-416a-a7b6-3eba3db2c649",
   "metadata": {},
   "outputs": [],
   "source": [
    "y = booksdata['average_rating']"
   ]
  },
  {
   "cell_type": "code",
   "execution_count": 52,
   "id": "8f039408-ad51-4f6a-915f-e2a4c853c863",
   "metadata": {},
   "outputs": [],
   "source": [
    "x_train, x_test, y_train, y_test = train_test_split(X, y, test_size=0.2, random_state=10)"
   ]
  },
  {
   "cell_type": "code",
   "execution_count": 53,
   "id": "d8a06006-b22a-40cb-8ffd-413566c28b63",
   "metadata": {},
   "outputs": [
    {
     "name": "stdout",
     "output_type": "stream",
     "text": [
      "X_train: (8840, 8)\n",
      "X_test: (2211, 8)\n",
      "Y_train: (8840,)\n",
      "Y_test: (2211,)\n"
     ]
    }
   ],
   "source": [
    "# We view the shape of the split data\n",
    "\n",
    "print(\"X_train:\",x_train.shape)\n",
    "print(\"X_test:\",x_test.shape)\n",
    "print(\"Y_train:\",y_train.shape)\n",
    "print(\"Y_test:\",y_test.shape)"
   ]
  },
  {
   "cell_type": "markdown",
   "id": "c78e4550-1aea-49a6-8c5e-7ae47fe60fca",
   "metadata": {},
   "source": [
    "## **5-1- LinearRegression()**"
   ]
  },
  {
   "cell_type": "code",
   "execution_count": 54,
   "id": "817975e9-39fb-49a6-9725-35560dfaaf7c",
   "metadata": {},
   "outputs": [],
   "source": [
    "linreg = LinearRegression()\n",
    "linreg.fit(x_train, y_train)\n",
    "prediction = linreg.predict(x_test)"
   ]
  },
  {
   "cell_type": "code",
   "execution_count": 55,
   "id": "b124441d-617e-4dda-8206-2ef10c2caf8b",
   "metadata": {},
   "outputs": [
    {
     "data": {
      "text/plain": [
       "array([3.93221712, 3.9237133 , 3.87061317, ..., 3.89457696, 3.91592718,\n",
       "       3.90503191])"
      ]
     },
     "execution_count": 55,
     "metadata": {},
     "output_type": "execute_result"
    }
   ],
   "source": [
    "# We use the predict method to predict the results then we pass the independent variables into it to see the results.\n",
    "\n",
    "y_pred=linreg.predict(x_test)\n",
    "y_pred"
   ]
  },
  {
   "cell_type": "code",
   "execution_count": 56,
   "id": "c7a18658-2ded-4f6a-a0c6-d7758effcadd",
   "metadata": {},
   "outputs": [
    {
     "data": {
      "image/png": "[encoded data removed]",
      "text/plain": [
       "<Figure size 432x288 with 1 Axes>"
      ]
     },
     "metadata": {},
     "output_type": "display_data"
    }
   ],
   "source": [
    "plt.scatter(y_test,y_pred);\n",
    "plt.xlabel('Actual');\n",
    "plt.ylabel('Predicted');\n",
    "sns.regplot(x=y_test,y=y_pred,ci=None,color ='red');"
   ]
  },
  {
   "cell_type": "code",
   "execution_count": 57,
   "id": "e5ed38b1-5a99-4764-b37f-f69b3af89b2a",
   "metadata": {},
   "outputs": [
    {
     "name": "stderr",
     "output_type": "stream",
     "text": [
      "/Users/alisemlali/opt/anaconda3/lib/python3.9/site-packages/seaborn/_decorators.py:36: FutureWarning: Pass the following variables as keyword args: x, y. From version 0.12, the only valid positional argument will be `data`, and passing other arguments without an explicit keyword will result in an error or misinterpretation.\n",
      "  warnings.warn(\n"
     ]
    },
    {
     "data": {
      "text/plain": [
       "<AxesSubplot:ylabel='average_rating'>"
      ]
     },
     "execution_count": 57,
     "metadata": {},
     "output_type": "execute_result"
    },
    {
     "data": {
      "image/png": "[encoded data removed]",
      "text/plain": [
       "<Figure size 1368x720 with 1 Axes>"
      ]
     },
     "metadata": {},
     "output_type": "display_data"
    }
   ],
   "source": [
    "plt.figure(figsize=(19,10))\n",
    "sns.regplot(y_pred, y_test, marker=\"+\", line_kws={'color':'darkred','alpha':1.0})"
   ]
  },
  {
   "cell_type": "markdown",
   "id": "6b052af2-eae1-469f-b1cc-3180ccf441b9",
   "metadata": {},
   "source": [
    "## **5-1- LinearRegression() Model Evaluation**"
   ]
  },
  {
   "cell_type": "code",
   "execution_count": 58,
   "id": "1150d9e3-06cc-4462-8609-f3cebb5347a7",
   "metadata": {},
   "outputs": [
    {
     "name": "stdout",
     "output_type": "stream",
     "text": [
      " Accuracy of the model is 2.02\n"
     ]
    }
   ],
   "source": [
    "from sklearn.metrics import r2_score\n",
    "\n",
    "Accuracy=r2_score(y_test,y_pred)*100\n",
    "print(\" Accuracy of the model is %.2f\" %Accuracy)"
   ]
  },
  {
   "cell_type": "code",
   "execution_count": 59,
   "id": "0ad84f9b-973d-4034-a202-216e9bd401f4",
   "metadata": {},
   "outputs": [
    {
     "name": "stdout",
     "output_type": "stream",
     "text": [
      "      Observed  Predicted\n",
      "1256      3.93   3.948265\n",
      "2118      3.59   3.884724\n",
      "1069      4.19   3.949255\n",
      "860       4.16   3.961858\n",
      "83        3.82   3.878147\n",
      "1685      3.91   3.925826\n",
      "1975      3.68   3.982065\n",
      "2003      3.84   3.961868\n",
      "1258      4.16   3.943743\n",
      "1814      4.46   3.903007\n",
      "169       3.98   3.962468\n",
      "1699      3.84   3.938289\n",
      "256       3.00   3.879064\n",
      "2147      3.73   3.860858\n",
      "2048      4.35   3.978851\n",
      "466       4.31   3.924442\n",
      "2060      4.33   3.893981\n",
      "655       4.56   3.870693\n",
      "120       3.93   3.886889\n",
      "1314      4.11   4.025337\n"
     ]
    }
   ],
   "source": [
    "predictions_comparision = pd.DataFrame({'Observed': y_test.tolist(), 'Predicted': y_pred.tolist()}).sample(25)\n",
    "print(predictions_comparision.sample(20))  "
   ]
  },
  {
   "cell_type": "code",
   "execution_count": 60,
   "id": "fa98d963-73fd-4b19-ac5f-38817568f765",
   "metadata": {},
   "outputs": [
    {
     "data": {
      "text/plain": [
       "0.22999036194902844"
      ]
     },
     "execution_count": 60,
     "metadata": {},
     "output_type": "execute_result"
    }
   ],
   "source": [
    "metrics.mean_absolute_error(y_test, y_pred)"
   ]
  },
  {
   "cell_type": "markdown",
   "id": "6b598b6e-3004-4763-9ecf-8be41028de9c",
   "metadata": {},
   "source": [
    "EAM = 0,22"
   ]
  },
  {
   "cell_type": "code",
   "execution_count": 61,
   "id": "c6586770-cc3f-4f21-b089-14dbea93201d",
   "metadata": {},
   "outputs": [
    {
     "data": {
      "text/plain": [
       "0.12553355178991515"
      ]
     },
     "execution_count": 61,
     "metadata": {},
     "output_type": "execute_result"
    }
   ],
   "source": [
    "metrics.mean_squared_error(y_test, y_pred)"
   ]
  },
  {
   "cell_type": "markdown",
   "id": "2de04a25-5d75-483a-ad0c-b1f7e6d151b1",
   "metadata": {},
   "source": [
    "ECM = 0,12"
   ]
  },
  {
   "cell_type": "markdown",
   "id": "fa411c11-862e-4dc2-a3c9-71137043a625",
   "metadata": {},
   "source": [
    "## **5-2- KNeighborsRegressor()**"
   ]
  },
  {
   "cell_type": "code",
   "execution_count": 62,
   "id": "433d28f9-cc05-46de-9bcb-37928fa3e0f9",
   "metadata": {},
   "outputs": [],
   "source": [
    "from sklearn.metrics import r2_score,mean_squared_error"
   ]
  },
  {
   "cell_type": "code",
   "execution_count": 63,
   "id": "b3d6bb27-91b0-426e-ba7b-2135343fd20b",
   "metadata": {},
   "outputs": [
    {
     "name": "stdout",
     "output_type": "stream",
     "text": [
      "      Observed  Predicted\n",
      "2116      4.08      3.782\n",
      "347       4.01      3.998\n",
      "1396      3.79      3.894\n",
      "689       3.00      3.884\n",
      "1488      3.85      3.636\n",
      "1354      3.96      3.770\n",
      "36        3.99      3.842\n",
      "631       4.05      4.014\n",
      "1527      0.00      4.178\n",
      "345       4.09      4.056\n",
      "1736      4.19      3.818\n",
      "540       3.95      4.092\n",
      "957       3.97      4.072\n",
      "112       4.11      3.958\n",
      "756       4.49      4.004\n",
      "40        3.26      3.802\n",
      "119       4.29      4.166\n",
      "1497      3.91      3.766\n",
      "2049      4.00      4.456\n",
      "223       4.26      4.148\n"
     ]
    },
    {
     "data": {
      "image/png": "[encoded data removed]",
      "text/plain": [
       "<Figure size 864x576 with 1 Axes>"
      ]
     },
     "metadata": {},
     "output_type": "display_data"
    },
    {
     "data": {
      "image/png": "[encoded data removed]",
      "text/plain": [
       "<Figure size 864x576 with 1 Axes>"
      ]
     },
     "metadata": {},
     "output_type": "display_data"
    }
   ],
   "source": [
    "from sklearn.neighbors import KNeighborsRegressor\n",
    "from sklearn.model_selection import KFold, GridSearchCV, train_test_split\n",
    "\n",
    "\n",
    "ar = list(KFold(n_splits=5, shuffle=True).split(x_train, y_train))\n",
    "\n",
    "params={\n",
    "    \"n_neighbors\": range(2, 30),\n",
    "    \"leaf_size\":[20,30,50,70]\n",
    "}\n",
    "\n",
    "\n",
    "y_pred = KNeighborsRegressor().fit(x_train,y_train).predict(x_test)\n",
    "\n",
    "predictions_comparision = pd.DataFrame({'Observed': y_test.tolist(), 'Predicted': y_pred.tolist()}).sample(25)\n",
    "predictions_comparision.plot(kind=\"box\", figsize=(12,8),title=\"Difference between observed & predicted values\")\n",
    "predictions_comparision.plot(kind=\"bar\", figsize=(12,8),title=\"Difference between observed & predicted values\")\n",
    "print(predictions_comparision.sample(20))    "
   ]
  },
  {
   "cell_type": "markdown",
   "id": "6ef67550-e50f-4fe0-b138-a2b0c652b8cb",
   "metadata": {},
   "source": [
    "## **5-2-1 KNeighborsRegressor() Model Evaluation**"
   ]
  },
  {
   "cell_type": "code",
   "execution_count": 64,
   "id": "1d70efb2-c80d-4570-a15e-360660382002",
   "metadata": {},
   "outputs": [
    {
     "data": {
      "text/plain": [
       "0.241838986883763"
      ]
     },
     "execution_count": 64,
     "metadata": {},
     "output_type": "execute_result"
    }
   ],
   "source": [
    "metrics.mean_absolute_error(y_test, y_pred)"
   ]
  },
  {
   "cell_type": "code",
   "execution_count": 65,
   "id": "1f39a277-db8e-45fb-a142-d845d52153bc",
   "metadata": {},
   "outputs": [
    {
     "data": {
      "text/plain": [
       "0.1392322550881954"
      ]
     },
     "execution_count": 65,
     "metadata": {},
     "output_type": "execute_result"
    }
   ],
   "source": [
    "metrics.mean_squared_error(y_test, y_pred)"
   ]
  },
  {
   "cell_type": "code",
   "execution_count": 66,
   "id": "beaa3c85-c8e9-4a8a-9f7d-dad96cf04f28",
   "metadata": {},
   "outputs": [
    {
     "name": "stdout",
     "output_type": "stream",
     "text": [
      "0.30768621114972594\n"
     ]
    }
   ],
   "source": [
    "model_score= KNeighborsRegressor().fit(x_train,y_train).score(x_train,y_train)\n",
    "print(model_score)  "
   ]
  },
  {
   "cell_type": "markdown",
   "id": "9f56faad-4596-4eb0-9a60-3b998d199493",
   "metadata": {},
   "source": [
    "## **5-3 DecisionTreeRegressor()**"
   ]
  },
  {
   "cell_type": "code",
   "execution_count": 67,
   "id": "8560c2a3-841c-46c0-a260-9f95b8db560c",
   "metadata": {},
   "outputs": [
    {
     "name": "stdout",
     "output_type": "stream",
     "text": [
      "      Observed  Predicted\n",
      "1708      4.15       4.04\n",
      "1654      3.99       3.65\n",
      "2109      4.18       4.09\n",
      "720       3.93       4.24\n",
      "2144      3.93       3.38\n",
      "420       3.64       3.93\n",
      "958       4.07       4.14\n",
      "1042      3.94       3.93\n",
      "1300      3.63       3.92\n",
      "727       3.77       3.29\n",
      "1718      4.00       3.87\n",
      "886       4.17       4.41\n",
      "1020      4.04       3.93\n",
      "674       3.42       3.51\n",
      "2050      3.88       3.84\n",
      "651       3.69       3.98\n",
      "306       4.00       3.82\n",
      "1159      4.29       3.50\n",
      "441       4.33       4.15\n",
      "705       3.76       3.53\n"
     ]
    },
    {
     "data": {
      "image/png": "[encoded data removed]",
      "text/plain": [
       "<Figure size 864x576 with 1 Axes>"
      ]
     },
     "metadata": {},
     "output_type": "display_data"
    },
    {
     "data": {
      "image/png": "[encoded data removed]",
      "text/plain": [
       "<Figure size 864x576 with 1 Axes>"
      ]
     },
     "metadata": {},
     "output_type": "display_data"
    }
   ],
   "source": [
    "from sklearn.tree import DecisionTreeRegressor\n",
    "\n",
    "params = {    \"min_samples_split\": [10, 20, 40],\n",
    "              \"max_depth\": [2, 6, 8, 15, 50],\n",
    "              \"min_samples_leaf\": [5, 20, 30],\n",
    "              \"max_leaf_nodes\": [5, 20],\n",
    "              }\n",
    "\n",
    "y_pred = DecisionTreeRegressor().fit(x_train,y_train).predict(x_test)\n",
    "\n",
    "predictions_comparision = pd.DataFrame({'Observed': y_test.tolist(), 'Predicted': y_pred.tolist()}).sample(25)\n",
    "predictions_comparision.plot(kind=\"box\", figsize=(12,8),title=\"Difference between observed & predicted values\")\n",
    "predictions_comparision.plot(kind=\"bar\", figsize=(12,8),title=\"Difference between observed & predicted values\")\n",
    "print(predictions_comparision.sample(20))    "
   ]
  },
  {
   "cell_type": "markdown",
   "id": "fcb8347d-e280-4ef2-9e4c-6d1c95cc0d52",
   "metadata": {},
   "source": [
    "## **5-3-1 DecisionTreeRegressor() Model Evalutation**"
   ]
  },
  {
   "cell_type": "code",
   "execution_count": 68,
   "id": "06af203b-5af4-43db-8a23-defca07e6723",
   "metadata": {},
   "outputs": [
    {
     "data": {
      "text/plain": [
       "0.298082315694256"
      ]
     },
     "execution_count": 68,
     "metadata": {},
     "output_type": "execute_result"
    }
   ],
   "source": [
    "metrics.mean_absolute_error(y_test, y_pred)"
   ]
  },
  {
   "cell_type": "code",
   "execution_count": 69,
   "id": "cd2bf58a-5778-439c-8bdc-5918f069001a",
   "metadata": {},
   "outputs": [
    {
     "data": {
      "text/plain": [
       "0.20042469470827678"
      ]
     },
     "execution_count": 69,
     "metadata": {},
     "output_type": "execute_result"
    }
   ],
   "source": [
    "metrics.mean_squared_error(y_test, y_pred)"
   ]
  },
  {
   "cell_type": "code",
   "execution_count": 70,
   "id": "3d145c85-7b20-444b-9b63-9f6c1bae8287",
   "metadata": {},
   "outputs": [
    {
     "name": "stdout",
     "output_type": "stream",
     "text": [
      "1.0\n"
     ]
    }
   ],
   "source": [
    "model_score= DecisionTreeRegressor().fit(x_train,y_train).score(x_train,y_train)\n",
    "print(model_score)  "
   ]
  },
  {
   "cell_type": "markdown",
   "id": "d9a37f9e-449c-40f3-af9d-8dc841c20166",
   "metadata": {},
   "source": [
    "## **5-4 GradientBoostingRegressor()**"
   ]
  },
  {
   "cell_type": "code",
   "execution_count": 71,
   "id": "4adc1eb2-3cbd-49c6-b22b-c06ca21e1309",
   "metadata": {},
   "outputs": [
    {
     "name": "stdout",
     "output_type": "stream",
     "text": [
      "      Observed  Predicted\n",
      "1291      4.14   3.953563\n",
      "1862      4.09   3.953232\n",
      "834       3.36   3.898860\n",
      "2101      3.94   3.856820\n",
      "718       3.44   3.851345\n",
      "1289      3.67   3.899083\n",
      "2005      3.98   3.897469\n",
      "1579      3.92   3.917410\n",
      "235       4.16   3.871507\n",
      "1995      4.00   3.320219\n",
      "841       3.33   3.954093\n",
      "869       3.47   3.926717\n",
      "1492      3.88   3.961623\n",
      "1391      3.80   3.871128\n",
      "253       4.23   3.970663\n",
      "426       3.64   3.931734\n",
      "1410      3.72   3.851310\n",
      "1028      4.38   3.823863\n",
      "1091      3.78   4.103663\n",
      "550       4.14   3.850165\n"
     ]
    },
    {
     "data": {
      "image/png": "[encoded data removed]",
      "text/plain": [
       "<Figure size 864x576 with 1 Axes>"
      ]
     },
     "metadata": {},
     "output_type": "display_data"
    },
    {
     "data": {
      "image/png": "[encoded data removed]",
      "text/plain": [
       "<Figure size 864x576 with 1 Axes>"
      ]
     },
     "metadata": {},
     "output_type": "display_data"
    }
   ],
   "source": [
    "from sklearn.ensemble import GradientBoostingRegressor\n",
    "\n",
    "params={\"n_estimators\":[20, 50, 100,200,400], \n",
    "        \"learning_rate\": [0.01, 0.05, 0.1, 0.3],\n",
    "         \"max_depth\":[3,5,10], \n",
    "        \"min_samples_leaf\": [3,5],\n",
    "        \"max_features\": [0.3, 1]\n",
    "       } \n",
    "\n",
    "y_pred = GradientBoostingRegressor().fit(x_train,y_train).predict(x_test)\n",
    "\n",
    "predictions_comparision = pd.DataFrame({'Observed': y_test.tolist(), 'Predicted': y_pred.tolist()}).sample(25)\n",
    "predictions_comparision.plot(kind=\"box\", figsize=(12,8),title=\"Difference between observed & predicted values\")\n",
    "predictions_comparision.plot(kind=\"bar\", figsize=(12,8),title=\"Difference between observed & predicted values\")\n",
    "print(predictions_comparision.sample(20))    \n"
   ]
  },
  {
   "cell_type": "markdown",
   "id": "74f062da-6ec1-4d9c-9f93-6d6e5ce8dc18",
   "metadata": {},
   "source": [
    "## **5-4-1 GradientBoostingRegressor()**"
   ]
  },
  {
   "cell_type": "code",
   "execution_count": 72,
   "id": "e5c5d7f7-f7c0-4f2c-bcf5-509c8e597de2",
   "metadata": {},
   "outputs": [
    {
     "data": {
      "text/plain": [
       "0.2241077894525904"
      ]
     },
     "execution_count": 72,
     "metadata": {},
     "output_type": "execute_result"
    }
   ],
   "source": [
    "metrics.mean_absolute_error(y_test, y_pred)"
   ]
  },
  {
   "cell_type": "code",
   "execution_count": 73,
   "id": "2f890f4c-f861-4790-8fff-23c3ac3fc9b2",
   "metadata": {},
   "outputs": [
    {
     "data": {
      "text/plain": [
       "0.11523687941462551"
      ]
     },
     "execution_count": 73,
     "metadata": {},
     "output_type": "execute_result"
    }
   ],
   "source": [
    "metrics.mean_squared_error(y_test, y_pred)"
   ]
  },
  {
   "cell_type": "code",
   "execution_count": 74,
   "id": "1fe1acca-d4b9-4c9f-a024-166beb83d03d",
   "metadata": {},
   "outputs": [
    {
     "name": "stdout",
     "output_type": "stream",
     "text": [
      "0.3496002126258423\n"
     ]
    }
   ],
   "source": [
    "model_score= GradientBoostingRegressor().fit(x_train,y_train).score(x_train,y_train)\n",
    "print(model_score)   "
   ]
  },
  {
   "cell_type": "markdown",
   "id": "bab7288d-b369-4a39-955f-02e077dd2d84",
   "metadata": {},
   "source": [
    "**From the results we got, we can say that the linear regression model is not very accurate but the predicted values and the actual values are close to each other. We can also see that DecisionTreeRegressor had the best model score with good accuracy between the actual and predicted values. For the GradientBoostingRegressor, we had the least values of EAM = 0,22 and ECM = 0,11. On the other hand the model training score is about 35 % wich is less than the DecisionTreeRegressor. Otherwise, the results we had in terms of predictions are satisfactory**"
   ]
  },
  {
   "cell_type": "code",
   "execution_count": null,
   "id": "a4d88f86-e6d5-4942-8b47-a22fdfea5d15",
   "metadata": {},
   "outputs": [],
   "source": []
  }
 ],
 "metadata": {
  "kernelspec": {
   "display_name": "Python 3 (ipykernel)",
   "language": "python",
   "name": "python3"
  },
  "language_info": {
   "codemirror_mode": {
    "name": "ipython",
    "version": 3
   },
   "file_extension": ".py",
   "mimetype": "text/x-python",
   "name": "python",
   "nbconvert_exporter": "python",
   "pygments_lexer": "ipython3",
   "version": "3.9.7"
  }
 },
 "nbformat": 4,
 "nbformat_minor": 5
}
